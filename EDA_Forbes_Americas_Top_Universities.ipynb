{
 "cells": [
  {
   "cell_type": "markdown",
   "metadata": {
    "id": "-q_wgrtstgmU"
   },
   "source": [
    "## Context\n",
    "\n",
    "Starting in 2008, every year Forbes Magazine publishes a list of America's best colleges. When it comes to the question everyone seems to be asking, “Is college worth it? this published list of colleges comes handy to take a decision based on student's requirement or desire.\n",
    "\n",
    "The mission of the college ranking by Forbes Magazine is to conduct an annual review of the undergraduate institutions that deliver the top academics, best experiences, career success and lowest debt. Whether a school is in the Top 10 or near the bottom of the list, the 650 colleges are the best in the country.\n",
    "\n",
    "For most families, choosing a four-year college is one of the biggest and most expensive decisions they can make. For students, this time of their life may layout their future plans. So choose carefully."
   ]
  },
  {
   "cell_type": "markdown",
   "metadata": {
    "id": "OSZd99VDtgmU"
   },
   "source": [
    "## About Data\n",
    "\n",
    "The data set contains the rankings of 650 Unites States colleges along with various other statistics pertaining to each school."
   ]
  },
  {
   "cell_type": "markdown",
   "metadata": {},
   "source": [
    "<img src =\"https://i.ibb.co/sKwQjfw/Stanford.jpg\" width=80% height =40%></img>\n"
   ]
  },
  {
   "cell_type": "markdown",
   "metadata": {
    "id": "Vc1l7FhUtgmU"
   },
   "source": [
    "### Load required packages"
   ]
  },
  {
   "cell_type": "code",
   "execution_count": 1,
   "metadata": {
    "id": "hQdKNDMOtgmU"
   },
   "outputs": [],
   "source": [
    "import numpy as np\n",
    "import pandas as pd"
   ]
  },
  {
   "cell_type": "markdown",
   "metadata": {
    "id": "qT0Hjo-AtgmV"
   },
   "source": [
    "### Load the data into pandas dataframe and view the details"
   ]
  },
  {
   "cell_type": "code",
   "execution_count": 2,
   "metadata": {
    "id": "jAhaE2VVtgmV"
   },
   "outputs": [],
   "source": [
    "df_college = pd.read_csv('ForbesAmericasTopColleges2019.csv')"
   ]
  },
  {
   "cell_type": "markdown",
   "metadata": {
    "id": "sSy16YsFtgmV"
   },
   "source": [
    "### Dimension of the data"
   ]
  },
  {
   "cell_type": "markdown",
   "metadata": {
    "id": "RIciQizYtgmV"
   },
   "source": [
    "*'shape'* is a property associated with DataFrame. It returns a tuple representing the dimensionality of the DataFrame. First value is giving number of rows and second value is giving number of columns."
   ]
  },
  {
   "cell_type": "code",
   "execution_count": 3,
   "metadata": {
    "colab": {
     "base_uri": "https://localhost:8080/"
    },
    "id": "5HWTSIy5tgmV",
    "outputId": "9abf7a13-17a0-49b4-b514-c831ca7be110"
   },
   "outputs": [
    {
     "data": {
      "text/plain": [
       "(650, 17)"
      ]
     },
     "execution_count": 3,
     "metadata": {},
     "output_type": "execute_result"
    }
   ],
   "source": [
    "df_college.shape"
   ]
  },
  {
   "cell_type": "code",
   "execution_count": 4,
   "metadata": {
    "colab": {
     "base_uri": "https://localhost:8080/"
    },
    "id": "feNnsPJ6tgmW",
    "outputId": "ba242632-dd83-4b29-9c3e-874148247831"
   },
   "outputs": [
    {
     "name": "stdout",
     "output_type": "stream",
     "text": [
      "The number of rows are:  650 \n",
      "The number of columns are:  17\n"
     ]
    }
   ],
   "source": [
    "print(\"The number of rows are: \",df_college.shape[0],\"\\nThe number of columns are: \",df_college.shape[1])"
   ]
  },
  {
   "cell_type": "markdown",
   "metadata": {
    "id": "Lv5WnED6tgmW"
   },
   "source": [
    "### Datatype of the fields in the data"
   ]
  },
  {
   "cell_type": "markdown",
   "metadata": {
    "id": "zCb-8nUmtgmX"
   },
   "source": [
    "'info()' method prints information about a DataFrame including the index dtype and column dtypes, non-null values and memory usage"
   ]
  },
  {
   "cell_type": "code",
   "execution_count": 5,
   "metadata": {
    "colab": {
     "base_uri": "https://localhost:8080/"
    },
    "id": "jV2_y-outgmX",
    "outputId": "e58993a2-e1f6-4c79-a285-84b624fbb0a2"
   },
   "outputs": [
    {
     "name": "stdout",
     "output_type": "stream",
     "text": [
      "<class 'pandas.core.frame.DataFrame'>\n",
      "RangeIndex: 650 entries, 0 to 649\n",
      "Data columns (total 17 columns):\n",
      "Rank                        650 non-null int64\n",
      "Name                        650 non-null object\n",
      "City                        650 non-null object\n",
      "State                       650 non-null object\n",
      "Public/Private              650 non-null object\n",
      "Undergraduate Population    650 non-null int64\n",
      "Student Population          650 non-null int64\n",
      "Net Price                   648 non-null float64\n",
      "Average Grant Aid           646 non-null float64\n",
      "Total Annual Cost           650 non-null int64\n",
      "Alumni Salary               635 non-null float64\n",
      "Acceptance Rate             648 non-null float64\n",
      "SAT Lower                   551 non-null float64\n",
      "SAT Upper                   551 non-null float64\n",
      "ACT Lower                   553 non-null float64\n",
      "ACT Upper                   553 non-null float64\n",
      "Website                     645 non-null object\n",
      "dtypes: float64(8), int64(4), object(5)\n",
      "memory usage: 86.4+ KB\n"
     ]
    }
   ],
   "source": [
    "df_college.info()"
   ]
  },
  {
   "cell_type": "markdown",
   "metadata": {
    "id": "JYr2YCtG6sGn"
   },
   "source": [
    "Observations:\n",
    "\n",
    "We have 5 fields with 'object' datatype, 8 fields of datatype 'float' and 4 fields with 'integer' datatype\n"
   ]
  },
  {
   "cell_type": "markdown",
   "metadata": {
    "id": "AaYuiPE1tgmX"
   },
   "source": [
    "### Check the missing values in the data\n",
    "'isnull()' method detects missing values. It returns a boolean same-sized object indicating if the values are NA. NA values, gets mapped to True values.Everything else gets mapped to False values.\n",
    "\n",
    "'sum()' method followed by 'isnull()' adds up all the True instances per column to give a summary of missing values per column"
   ]
  },
  {
   "cell_type": "code",
   "execution_count": 6,
   "metadata": {
    "id": "gGjFdfEgtgmX",
    "outputId": "3572830d-c1eb-4ab8-962d-6193e5f6c1b0"
   },
   "outputs": [
    {
     "data": {
      "text/plain": [
       "Rank                         0\n",
       "Name                         0\n",
       "City                         0\n",
       "State                        0\n",
       "Public/Private               0\n",
       "Undergraduate Population     0\n",
       "Student Population           0\n",
       "Net Price                    2\n",
       "Average Grant Aid            4\n",
       "Total Annual Cost            0\n",
       "Alumni Salary               15\n",
       "Acceptance Rate              2\n",
       "SAT Lower                   99\n",
       "SAT Upper                   99\n",
       "ACT Lower                   97\n",
       "ACT Upper                   97\n",
       "Website                      5\n",
       "dtype: int64"
      ]
     },
     "execution_count": 6,
     "metadata": {},
     "output_type": "execute_result"
    }
   ],
   "source": [
    "df_college.isnull().sum()"
   ]
  },
  {
   "cell_type": "markdown",
   "metadata": {
    "id": "3Ce0LbyRtgmX"
   },
   "source": [
    "Observations:\n",
    "\n",
    "We observe many missing values in SAT and ACT score fields. \n",
    "\n",
    "Let's drop 'SAT' and 'ACT' score columns for our analysis.\n",
    "\n",
    "Also, there are missing values observed in 'Net Price', 'Average Grant Aid', 'Alumni Salary' and 'Acceptance Rate'. \n",
    "\n",
    "Let's drop the records/rows with missing values before proceeding with the analysis\n",
    "\n",
    "'Website' is unique identifier of each college and is not required for further analysis. So, we can drop this column as well.\n",
    "\n"
   ]
  },
  {
   "cell_type": "markdown",
   "metadata": {
    "id": "FfyQfVwhtgmX"
   },
   "source": [
    "### Data Cleanup"
   ]
  },
  {
   "cell_type": "markdown",
   "metadata": {
    "id": "xTvtcQShtgmX"
   },
   "source": [
    "Let's first drop all columns that are not need. \n",
    "\n",
    "'drop()' method with 'axis=1' indicates that columns have to be dropped. List of column names to be dropped is passed to the method. 'inplace = True' ensures that the columns are dropped from the DataFrame permanently"
   ]
  },
  {
   "cell_type": "code",
   "execution_count": 7,
   "metadata": {
    "id": "_wPeCQ8xtgmX"
   },
   "outputs": [],
   "source": [
    "df_college.drop(['Website', 'SAT Lower','SAT Upper','ACT Lower','ACT Upper'], axis=1, inplace=True)"
   ]
  },
  {
   "cell_type": "markdown",
   "metadata": {
    "id": "3vb8ZhMAtgmX"
   },
   "source": [
    "'dropna()' method drops all rows with NA values (by default axis = 0)"
   ]
  },
  {
   "cell_type": "code",
   "execution_count": 8,
   "metadata": {
    "id": "9DfcH1YktgmX"
   },
   "outputs": [],
   "source": [
    "df_college.dropna(inplace=True)"
   ]
  },
  {
   "cell_type": "code",
   "execution_count": 9,
   "metadata": {
    "colab": {
     "base_uri": "https://localhost:8080/"
    },
    "id": "amMAF6ahtgmY",
    "outputId": "fe860b07-0bd0-4040-dcd7-cf963fe09428"
   },
   "outputs": [
    {
     "data": {
      "text/plain": [
       "(628, 12)"
      ]
     },
     "execution_count": 9,
     "metadata": {},
     "output_type": "execute_result"
    }
   ],
   "source": [
    "df_college.shape"
   ]
  },
  {
   "cell_type": "markdown",
   "metadata": {
    "id": "B_3F6b4ptgmY"
   },
   "source": [
    "Note:\n",
    "\n",
    "After dropping the rows which had missing values we are left with 628 rows\n",
    "\n",
    "Also as we have dropped rows with missing values the index is no more continuous and has to be reset"
   ]
  },
  {
   "cell_type": "markdown",
   "metadata": {
    "id": "dRhJfREXtgmY"
   },
   "source": [
    "### Reset the index of the dataframe\n",
    "\n",
    "'reset_index()' resets the index of the DataFrame\n",
    "\n",
    "'drop' as True, will not try to insert index into DataFrame columns\n",
    "\n",
    "'inplace' as True resets the index permanently"
   ]
  },
  {
   "cell_type": "code",
   "execution_count": 10,
   "metadata": {
    "id": "fpBPXoWutgmY"
   },
   "outputs": [],
   "source": [
    "df_college.reset_index(drop=True, inplace=True)"
   ]
  },
  {
   "cell_type": "markdown",
   "metadata": {
    "id": "8S9FjBQetgmY"
   },
   "source": [
    "### Check the first 5 rows of the dataset\n",
    "'head()' function is used to view the top records. By default it displays 5 rows."
   ]
  },
  {
   "cell_type": "code",
   "execution_count": 11,
   "metadata": {
    "colab": {
     "base_uri": "https://localhost:8080/",
     "height": 255
    },
    "id": "wW-ONC4ktgmY",
    "outputId": "542b2ec9-9db8-4745-f1e8-806b7d981fcf"
   },
   "outputs": [
    {
     "data": {
      "text/html": [
       "<div>\n",
       "<style scoped>\n",
       "    .dataframe tbody tr th:only-of-type {\n",
       "        vertical-align: middle;\n",
       "    }\n",
       "\n",
       "    .dataframe tbody tr th {\n",
       "        vertical-align: top;\n",
       "    }\n",
       "\n",
       "    .dataframe thead th {\n",
       "        text-align: right;\n",
       "    }\n",
       "</style>\n",
       "<table border=\"1\" class=\"dataframe\">\n",
       "  <thead>\n",
       "    <tr style=\"text-align: right;\">\n",
       "      <th></th>\n",
       "      <th>Rank</th>\n",
       "      <th>Name</th>\n",
       "      <th>City</th>\n",
       "      <th>State</th>\n",
       "      <th>Public/Private</th>\n",
       "      <th>Undergraduate Population</th>\n",
       "      <th>Student Population</th>\n",
       "      <th>Net Price</th>\n",
       "      <th>Average Grant Aid</th>\n",
       "      <th>Total Annual Cost</th>\n",
       "      <th>Alumni Salary</th>\n",
       "      <th>Acceptance Rate</th>\n",
       "    </tr>\n",
       "  </thead>\n",
       "  <tbody>\n",
       "    <tr>\n",
       "      <th>0</th>\n",
       "      <td>1</td>\n",
       "      <td>Harvard University</td>\n",
       "      <td>Cambridge</td>\n",
       "      <td>MA</td>\n",
       "      <td>Private</td>\n",
       "      <td>13844</td>\n",
       "      <td>31120</td>\n",
       "      <td>14327.0</td>\n",
       "      <td>49870.0</td>\n",
       "      <td>69600</td>\n",
       "      <td>146800.0</td>\n",
       "      <td>5.0</td>\n",
       "    </tr>\n",
       "    <tr>\n",
       "      <th>1</th>\n",
       "      <td>2</td>\n",
       "      <td>Stanford University</td>\n",
       "      <td>Stanford</td>\n",
       "      <td>CA</td>\n",
       "      <td>Private</td>\n",
       "      <td>8402</td>\n",
       "      <td>17534</td>\n",
       "      <td>13261.0</td>\n",
       "      <td>50134.0</td>\n",
       "      <td>69109</td>\n",
       "      <td>145200.0</td>\n",
       "      <td>5.0</td>\n",
       "    </tr>\n",
       "    <tr>\n",
       "      <th>2</th>\n",
       "      <td>3</td>\n",
       "      <td>Yale University</td>\n",
       "      <td>New Haven</td>\n",
       "      <td>CT</td>\n",
       "      <td>Private</td>\n",
       "      <td>6483</td>\n",
       "      <td>12974</td>\n",
       "      <td>18627.0</td>\n",
       "      <td>50897.0</td>\n",
       "      <td>71290</td>\n",
       "      <td>138300.0</td>\n",
       "      <td>7.0</td>\n",
       "    </tr>\n",
       "    <tr>\n",
       "      <th>3</th>\n",
       "      <td>4</td>\n",
       "      <td>Massachusetts Institute of Technology</td>\n",
       "      <td>Cambridge</td>\n",
       "      <td>MA</td>\n",
       "      <td>Private</td>\n",
       "      <td>4680</td>\n",
       "      <td>11466</td>\n",
       "      <td>20771.0</td>\n",
       "      <td>43248.0</td>\n",
       "      <td>67430</td>\n",
       "      <td>155200.0</td>\n",
       "      <td>7.0</td>\n",
       "    </tr>\n",
       "    <tr>\n",
       "      <th>4</th>\n",
       "      <td>5</td>\n",
       "      <td>Princeton University</td>\n",
       "      <td>Princeton</td>\n",
       "      <td>NJ</td>\n",
       "      <td>Private</td>\n",
       "      <td>5659</td>\n",
       "      <td>8273</td>\n",
       "      <td>9327.0</td>\n",
       "      <td>48088.0</td>\n",
       "      <td>66150</td>\n",
       "      <td>139400.0</td>\n",
       "      <td>6.0</td>\n",
       "    </tr>\n",
       "  </tbody>\n",
       "</table>\n",
       "</div>"
      ],
      "text/plain": [
       "   Rank                                   Name       City State  \\\n",
       "0     1                     Harvard University  Cambridge    MA   \n",
       "1     2                    Stanford University   Stanford    CA   \n",
       "2     3                        Yale University  New Haven    CT   \n",
       "3     4  Massachusetts Institute of Technology  Cambridge    MA   \n",
       "4     5                   Princeton University  Princeton    NJ   \n",
       "\n",
       "  Public/Private  Undergraduate Population  Student Population  Net Price  \\\n",
       "0        Private                     13844               31120    14327.0   \n",
       "1        Private                      8402               17534    13261.0   \n",
       "2        Private                      6483               12974    18627.0   \n",
       "3        Private                      4680               11466    20771.0   \n",
       "4        Private                      5659                8273     9327.0   \n",
       "\n",
       "   Average Grant Aid  Total Annual Cost  Alumni Salary  Acceptance Rate  \n",
       "0            49870.0              69600       146800.0              5.0  \n",
       "1            50134.0              69109       145200.0              5.0  \n",
       "2            50897.0              71290       138300.0              7.0  \n",
       "3            43248.0              67430       155200.0              7.0  \n",
       "4            48088.0              66150       139400.0              6.0  "
      ]
     },
     "execution_count": 11,
     "metadata": {},
     "output_type": "execute_result"
    }
   ],
   "source": [
    "df_college.head()"
   ]
  },
  {
   "cell_type": "markdown",
   "metadata": {
    "id": "seNXIKL-tgmY"
   },
   "source": [
    "### Display the last five rows of the dataset\n",
    "'tail()' function is used to view the last records. By default it displays 5 rows."
   ]
  },
  {
   "cell_type": "code",
   "execution_count": 12,
   "metadata": {
    "id": "1iAyCwLGtgmY",
    "outputId": "80a0c798-444c-49be-9261-d0fa719ea75c"
   },
   "outputs": [
    {
     "data": {
      "text/html": [
       "<div>\n",
       "<style scoped>\n",
       "    .dataframe tbody tr th:only-of-type {\n",
       "        vertical-align: middle;\n",
       "    }\n",
       "\n",
       "    .dataframe tbody tr th {\n",
       "        vertical-align: top;\n",
       "    }\n",
       "\n",
       "    .dataframe thead th {\n",
       "        text-align: right;\n",
       "    }\n",
       "</style>\n",
       "<table border=\"1\" class=\"dataframe\">\n",
       "  <thead>\n",
       "    <tr style=\"text-align: right;\">\n",
       "      <th></th>\n",
       "      <th>Rank</th>\n",
       "      <th>Name</th>\n",
       "      <th>City</th>\n",
       "      <th>State</th>\n",
       "      <th>Public/Private</th>\n",
       "      <th>Undergraduate Population</th>\n",
       "      <th>Student Population</th>\n",
       "      <th>Net Price</th>\n",
       "      <th>Average Grant Aid</th>\n",
       "      <th>Total Annual Cost</th>\n",
       "      <th>Alumni Salary</th>\n",
       "      <th>Acceptance Rate</th>\n",
       "    </tr>\n",
       "  </thead>\n",
       "  <tbody>\n",
       "    <tr>\n",
       "      <th>623</th>\n",
       "      <td>645</td>\n",
       "      <td>Morehouse College</td>\n",
       "      <td>Atlanta</td>\n",
       "      <td>GA</td>\n",
       "      <td>Private</td>\n",
       "      <td>2202</td>\n",
       "      <td>2219</td>\n",
       "      <td>34928.0</td>\n",
       "      <td>17318.0</td>\n",
       "      <td>48723</td>\n",
       "      <td>98700.0</td>\n",
       "      <td>74.0</td>\n",
       "    </tr>\n",
       "    <tr>\n",
       "      <th>624</th>\n",
       "      <td>646</td>\n",
       "      <td>New Mexico State University</td>\n",
       "      <td>Las Cruces</td>\n",
       "      <td>NM</td>\n",
       "      <td>Public</td>\n",
       "      <td>13379</td>\n",
       "      <td>14432</td>\n",
       "      <td>8625.0</td>\n",
       "      <td>9582.0</td>\n",
       "      <td>34720</td>\n",
       "      <td>96700.0</td>\n",
       "      <td>64.0</td>\n",
       "    </tr>\n",
       "    <tr>\n",
       "      <th>625</th>\n",
       "      <td>647</td>\n",
       "      <td>Indiana State University</td>\n",
       "      <td>Terre Haute</td>\n",
       "      <td>IN</td>\n",
       "      <td>Public</td>\n",
       "      <td>13626</td>\n",
       "      <td>13763</td>\n",
       "      <td>13012.0</td>\n",
       "      <td>9297.0</td>\n",
       "      <td>32938</td>\n",
       "      <td>85600.0</td>\n",
       "      <td>85.0</td>\n",
       "    </tr>\n",
       "    <tr>\n",
       "      <th>626</th>\n",
       "      <td>648</td>\n",
       "      <td>Emory &amp;amp; Henry College</td>\n",
       "      <td>Emory</td>\n",
       "      <td>VA</td>\n",
       "      <td>Private</td>\n",
       "      <td>1094</td>\n",
       "      <td>1226</td>\n",
       "      <td>19340.0</td>\n",
       "      <td>27155.0</td>\n",
       "      <td>48100</td>\n",
       "      <td>70700.0</td>\n",
       "      <td>72.0</td>\n",
       "    </tr>\n",
       "    <tr>\n",
       "      <th>627</th>\n",
       "      <td>650</td>\n",
       "      <td>Catawba College</td>\n",
       "      <td>Salisbury</td>\n",
       "      <td>NC</td>\n",
       "      <td>Private</td>\n",
       "      <td>1336</td>\n",
       "      <td>1463</td>\n",
       "      <td>19807.0</td>\n",
       "      <td>23662.0</td>\n",
       "      <td>44921</td>\n",
       "      <td>78100.0</td>\n",
       "      <td>42.0</td>\n",
       "    </tr>\n",
       "  </tbody>\n",
       "</table>\n",
       "</div>"
      ],
      "text/plain": [
       "     Rank                         Name         City State Public/Private  \\\n",
       "623   645            Morehouse College      Atlanta    GA        Private   \n",
       "624   646  New Mexico State University   Las Cruces    NM         Public   \n",
       "625   647     Indiana State University  Terre Haute    IN         Public   \n",
       "626   648    Emory &amp; Henry College        Emory    VA        Private   \n",
       "627   650              Catawba College    Salisbury    NC        Private   \n",
       "\n",
       "     Undergraduate Population  Student Population  Net Price  \\\n",
       "623                      2202                2219    34928.0   \n",
       "624                     13379               14432     8625.0   \n",
       "625                     13626               13763    13012.0   \n",
       "626                      1094                1226    19340.0   \n",
       "627                      1336                1463    19807.0   \n",
       "\n",
       "     Average Grant Aid  Total Annual Cost  Alumni Salary  Acceptance Rate  \n",
       "623            17318.0              48723        98700.0             74.0  \n",
       "624             9582.0              34720        96700.0             64.0  \n",
       "625             9297.0              32938        85600.0             85.0  \n",
       "626            27155.0              48100        70700.0             72.0  \n",
       "627            23662.0              44921        78100.0             42.0  "
      ]
     },
     "execution_count": 12,
     "metadata": {},
     "output_type": "execute_result"
    }
   ],
   "source": [
    "df_college.tail()"
   ]
  },
  {
   "cell_type": "markdown",
   "metadata": {
    "id": "cHskLSaBtgmZ"
   },
   "source": [
    "Observations:\n",
    "\n",
    "From the head() and tail() output we now see that the indexes are realigned i.e. from 0 through 627 "
   ]
  },
  {
   "cell_type": "markdown",
   "metadata": {
    "id": "2MIH0RTj7_iO"
   },
   "source": [
    "### Recheck the dimension and info of the data "
   ]
  },
  {
   "cell_type": "code",
   "execution_count": 13,
   "metadata": {
    "id": "Er4-UkBFtgmZ",
    "outputId": "afdb13e3-d1c2-4a72-ff8c-507f342ba35e"
   },
   "outputs": [
    {
     "name": "stdout",
     "output_type": "stream",
     "text": [
      "The number of rows are:  628 \n",
      "The number of columns are:  12\n"
     ]
    }
   ],
   "source": [
    "print(\"The number of rows are: \",df_college.shape[0],\"\\nThe number of columns are: \",df_college.shape[1])"
   ]
  },
  {
   "cell_type": "code",
   "execution_count": 14,
   "metadata": {
    "id": "kzygTqlAtgmZ",
    "outputId": "3e52f648-afb9-484b-ceb1-325e331a03e4"
   },
   "outputs": [
    {
     "name": "stdout",
     "output_type": "stream",
     "text": [
      "<class 'pandas.core.frame.DataFrame'>\n",
      "RangeIndex: 628 entries, 0 to 627\n",
      "Data columns (total 12 columns):\n",
      "Rank                        628 non-null int64\n",
      "Name                        628 non-null object\n",
      "City                        628 non-null object\n",
      "State                       628 non-null object\n",
      "Public/Private              628 non-null object\n",
      "Undergraduate Population    628 non-null int64\n",
      "Student Population          628 non-null int64\n",
      "Net Price                   628 non-null float64\n",
      "Average Grant Aid           628 non-null float64\n",
      "Total Annual Cost           628 non-null int64\n",
      "Alumni Salary               628 non-null float64\n",
      "Acceptance Rate             628 non-null float64\n",
      "dtypes: float64(4), int64(4), object(4)\n",
      "memory usage: 59.0+ KB\n"
     ]
    }
   ],
   "source": [
    "df_college.info()"
   ]
  },
  {
   "cell_type": "markdown",
   "metadata": {
    "id": "z8Q3d9YitgmZ"
   },
   "source": [
    "Note:\n",
    "\n",
    "The data is now clean and has no missing values"
   ]
  },
  {
   "cell_type": "markdown",
   "metadata": {
    "id": "0tR2xaFutgmZ"
   },
   "source": [
    "# Data Analysis"
   ]
  },
  {
   "cell_type": "markdown",
   "metadata": {
    "id": "2lAXzmq-tgmZ"
   },
   "source": [
    "### Get Summary of Data"
   ]
  },
  {
   "cell_type": "markdown",
   "metadata": {
    "id": "OlktZ7whtgmZ"
   },
   "source": [
    "'describe()' method generates descriptive statistics. Descriptive statistics include those that summarize the central\n",
    "tendency, dispersion and shape of a dataset's distribution, excluding 'NaN' values"
   ]
  },
  {
   "cell_type": "code",
   "execution_count": 15,
   "metadata": {
    "id": "AMsXZpWbtgmZ",
    "outputId": "4d233079-9407-487b-fa1d-a1022be388a3"
   },
   "outputs": [
    {
     "data": {
      "text/html": [
       "<div>\n",
       "<style scoped>\n",
       "    .dataframe tbody tr th:only-of-type {\n",
       "        vertical-align: middle;\n",
       "    }\n",
       "\n",
       "    .dataframe tbody tr th {\n",
       "        vertical-align: top;\n",
       "    }\n",
       "\n",
       "    .dataframe thead th {\n",
       "        text-align: right;\n",
       "    }\n",
       "</style>\n",
       "<table border=\"1\" class=\"dataframe\">\n",
       "  <thead>\n",
       "    <tr style=\"text-align: right;\">\n",
       "      <th></th>\n",
       "      <th>Rank</th>\n",
       "      <th>Undergraduate Population</th>\n",
       "      <th>Student Population</th>\n",
       "      <th>Net Price</th>\n",
       "      <th>Average Grant Aid</th>\n",
       "      <th>Total Annual Cost</th>\n",
       "      <th>Alumni Salary</th>\n",
       "      <th>Acceptance Rate</th>\n",
       "    </tr>\n",
       "  </thead>\n",
       "  <tbody>\n",
       "    <tr>\n",
       "      <th>count</th>\n",
       "      <td>628.000000</td>\n",
       "      <td>628.000000</td>\n",
       "      <td>628.000000</td>\n",
       "      <td>628.000000</td>\n",
       "      <td>628.000000</td>\n",
       "      <td>628.000000</td>\n",
       "      <td>628.000000</td>\n",
       "      <td>628.000000</td>\n",
       "    </tr>\n",
       "    <tr>\n",
       "      <th>mean</th>\n",
       "      <td>322.122611</td>\n",
       "      <td>10235.472930</td>\n",
       "      <td>12312.912420</td>\n",
       "      <td>22481.570064</td>\n",
       "      <td>19971.522293</td>\n",
       "      <td>50722.579618</td>\n",
       "      <td>98616.242038</td>\n",
       "      <td>61.721338</td>\n",
       "    </tr>\n",
       "    <tr>\n",
       "      <th>std</th>\n",
       "      <td>185.360460</td>\n",
       "      <td>11228.048723</td>\n",
       "      <td>13246.660229</td>\n",
       "      <td>8099.771637</td>\n",
       "      <td>11214.740998</td>\n",
       "      <td>12670.126944</td>\n",
       "      <td>14026.078146</td>\n",
       "      <td>21.795857</td>\n",
       "    </tr>\n",
       "    <tr>\n",
       "      <th>min</th>\n",
       "      <td>1.000000</td>\n",
       "      <td>323.000000</td>\n",
       "      <td>406.000000</td>\n",
       "      <td>1298.000000</td>\n",
       "      <td>2975.000000</td>\n",
       "      <td>8646.000000</td>\n",
       "      <td>70700.000000</td>\n",
       "      <td>5.000000</td>\n",
       "    </tr>\n",
       "    <tr>\n",
       "      <th>25%</th>\n",
       "      <td>161.750000</td>\n",
       "      <td>2062.750000</td>\n",
       "      <td>2294.500000</td>\n",
       "      <td>16476.000000</td>\n",
       "      <td>9253.000000</td>\n",
       "      <td>40076.000000</td>\n",
       "      <td>88600.000000</td>\n",
       "      <td>49.000000</td>\n",
       "    </tr>\n",
       "    <tr>\n",
       "      <th>50%</th>\n",
       "      <td>321.500000</td>\n",
       "      <td>4825.500000</td>\n",
       "      <td>6538.500000</td>\n",
       "      <td>22065.000000</td>\n",
       "      <td>19605.000000</td>\n",
       "      <td>50478.000000</td>\n",
       "      <td>96300.000000</td>\n",
       "      <td>67.000000</td>\n",
       "    </tr>\n",
       "    <tr>\n",
       "      <th>75%</th>\n",
       "      <td>479.250000</td>\n",
       "      <td>15867.000000</td>\n",
       "      <td>18357.250000</td>\n",
       "      <td>27880.750000</td>\n",
       "      <td>27431.000000</td>\n",
       "      <td>60965.000000</td>\n",
       "      <td>105400.000000</td>\n",
       "      <td>78.000000</td>\n",
       "    </tr>\n",
       "    <tr>\n",
       "      <th>max</th>\n",
       "      <td>650.000000</td>\n",
       "      <td>65100.000000</td>\n",
       "      <td>75044.000000</td>\n",
       "      <td>47270.000000</td>\n",
       "      <td>50897.000000</td>\n",
       "      <td>75735.000000</td>\n",
       "      <td>158200.000000</td>\n",
       "      <td>100.000000</td>\n",
       "    </tr>\n",
       "  </tbody>\n",
       "</table>\n",
       "</div>"
      ],
      "text/plain": [
       "             Rank  Undergraduate Population  Student Population     Net Price  \\\n",
       "count  628.000000                628.000000          628.000000    628.000000   \n",
       "mean   322.122611              10235.472930        12312.912420  22481.570064   \n",
       "std    185.360460              11228.048723        13246.660229   8099.771637   \n",
       "min      1.000000                323.000000          406.000000   1298.000000   \n",
       "25%    161.750000               2062.750000         2294.500000  16476.000000   \n",
       "50%    321.500000               4825.500000         6538.500000  22065.000000   \n",
       "75%    479.250000              15867.000000        18357.250000  27880.750000   \n",
       "max    650.000000              65100.000000        75044.000000  47270.000000   \n",
       "\n",
       "       Average Grant Aid  Total Annual Cost  Alumni Salary  Acceptance Rate  \n",
       "count         628.000000         628.000000     628.000000       628.000000  \n",
       "mean        19971.522293       50722.579618   98616.242038        61.721338  \n",
       "std         11214.740998       12670.126944   14026.078146        21.795857  \n",
       "min          2975.000000        8646.000000   70700.000000         5.000000  \n",
       "25%          9253.000000       40076.000000   88600.000000        49.000000  \n",
       "50%         19605.000000       50478.000000   96300.000000        67.000000  \n",
       "75%         27431.000000       60965.000000  105400.000000        78.000000  \n",
       "max         50897.000000       75735.000000  158200.000000       100.000000  "
      ]
     },
     "execution_count": 15,
     "metadata": {},
     "output_type": "execute_result"
    }
   ],
   "source": [
    "df_college.describe()"
   ]
  },
  {
   "cell_type": "markdown",
   "metadata": {
    "id": "RrH71ybUtgma"
   },
   "source": [
    "### 1) Which are the top 5 colleges listed in the Forbes Magazine 2019?"
   ]
  },
  {
   "cell_type": "markdown",
   "metadata": {},
   "source": [
    "<img src =\"https://i.ibb.co/dj0PFhK/Harvard.jpg\" width=80% height =40%></img>\n"
   ]
  },
  {
   "cell_type": "markdown",
   "metadata": {
    "id": "oLOGstSVtgma"
   },
   "source": [
    "As we need the 'Name' of the colleges, we first pick the 'Name' column and then display the top 5 rows using head() function"
   ]
  },
  {
   "cell_type": "code",
   "execution_count": 16,
   "metadata": {
    "id": "k55BuH2Jtgma",
    "outputId": "3e27da57-085a-42d1-8fbb-fe10353707f4"
   },
   "outputs": [
    {
     "data": {
      "text/plain": [
       "0                       Harvard University\n",
       "1                      Stanford University\n",
       "2                          Yale University\n",
       "3    Massachusetts Institute of Technology\n",
       "4                     Princeton University\n",
       "Name: Name, dtype: object"
      ]
     },
     "execution_count": 16,
     "metadata": {},
     "output_type": "execute_result"
    }
   ],
   "source": [
    "df_college.Name.head() "
   ]
  },
  {
   "cell_type": "markdown",
   "metadata": {
    "id": "-agVXiUhtgma"
   },
   "source": [
    "We can also save the information in an object 'top5' and display it"
   ]
  },
  {
   "cell_type": "code",
   "execution_count": 17,
   "metadata": {
    "id": "ORpS4fMKtgma",
    "outputId": "6fee132f-c980-40cd-8cab-dfa669bd1a43"
   },
   "outputs": [
    {
     "data": {
      "text/plain": [
       "0                       Harvard University\n",
       "1                      Stanford University\n",
       "2                          Yale University\n",
       "3    Massachusetts Institute of Technology\n",
       "4                     Princeton University\n",
       "Name: Name, dtype: object"
      ]
     },
     "execution_count": 17,
     "metadata": {},
     "output_type": "execute_result"
    }
   ],
   "source": [
    "top5 = df_college.Name.head() \n",
    "top5"
   ]
  },
  {
   "cell_type": "markdown",
   "metadata": {
    "id": "UP_96QNFtgma"
   },
   "source": [
    "Note:\n",
    "\n",
    "Since the data is ordered as per the rank of the universities we can just pick up the top 5 colleges."
   ]
  },
  {
   "cell_type": "markdown",
   "metadata": {
    "id": "p5zmndDStgma"
   },
   "source": [
    "### 2) Which state and city do the top 5 colleges belong to?"
   ]
  },
  {
   "cell_type": "markdown",
   "metadata": {
    "id": "fYwMKw8Ttgma"
   },
   "source": [
    "As we need the 'Name', 'City' and 'State' of the colleges, we first pick the required columns and then display the top 5 rows using head() function"
   ]
  },
  {
   "cell_type": "code",
   "execution_count": 18,
   "metadata": {
    "id": "ZQqj9CmRtgma",
    "outputId": "120ba67c-56ec-40e9-98ba-8ad44d80315e"
   },
   "outputs": [
    {
     "data": {
      "text/html": [
       "<div>\n",
       "<style scoped>\n",
       "    .dataframe tbody tr th:only-of-type {\n",
       "        vertical-align: middle;\n",
       "    }\n",
       "\n",
       "    .dataframe tbody tr th {\n",
       "        vertical-align: top;\n",
       "    }\n",
       "\n",
       "    .dataframe thead th {\n",
       "        text-align: right;\n",
       "    }\n",
       "</style>\n",
       "<table border=\"1\" class=\"dataframe\">\n",
       "  <thead>\n",
       "    <tr style=\"text-align: right;\">\n",
       "      <th></th>\n",
       "      <th>Name</th>\n",
       "      <th>City</th>\n",
       "      <th>State</th>\n",
       "    </tr>\n",
       "  </thead>\n",
       "  <tbody>\n",
       "    <tr>\n",
       "      <th>0</th>\n",
       "      <td>Harvard University</td>\n",
       "      <td>Cambridge</td>\n",
       "      <td>MA</td>\n",
       "    </tr>\n",
       "    <tr>\n",
       "      <th>1</th>\n",
       "      <td>Stanford University</td>\n",
       "      <td>Stanford</td>\n",
       "      <td>CA</td>\n",
       "    </tr>\n",
       "    <tr>\n",
       "      <th>2</th>\n",
       "      <td>Yale University</td>\n",
       "      <td>New Haven</td>\n",
       "      <td>CT</td>\n",
       "    </tr>\n",
       "    <tr>\n",
       "      <th>3</th>\n",
       "      <td>Massachusetts Institute of Technology</td>\n",
       "      <td>Cambridge</td>\n",
       "      <td>MA</td>\n",
       "    </tr>\n",
       "    <tr>\n",
       "      <th>4</th>\n",
       "      <td>Princeton University</td>\n",
       "      <td>Princeton</td>\n",
       "      <td>NJ</td>\n",
       "    </tr>\n",
       "  </tbody>\n",
       "</table>\n",
       "</div>"
      ],
      "text/plain": [
       "                                    Name       City State\n",
       "0                     Harvard University  Cambridge    MA\n",
       "1                    Stanford University   Stanford    CA\n",
       "2                        Yale University  New Haven    CT\n",
       "3  Massachusetts Institute of Technology  Cambridge    MA\n",
       "4                   Princeton University  Princeton    NJ"
      ]
     },
     "execution_count": 18,
     "metadata": {},
     "output_type": "execute_result"
    }
   ],
   "source": [
    "df_college[['Name','City','State']].head(5)"
   ]
  },
  {
   "cell_type": "code",
   "execution_count": 19,
   "metadata": {
    "id": "LP8gD4Detgmb",
    "outputId": "cd4800b8-ee80-4d1a-9c55-1a5b852049e7"
   },
   "outputs": [
    {
     "data": {
      "text/html": [
       "<div>\n",
       "<style scoped>\n",
       "    .dataframe tbody tr th:only-of-type {\n",
       "        vertical-align: middle;\n",
       "    }\n",
       "\n",
       "    .dataframe tbody tr th {\n",
       "        vertical-align: top;\n",
       "    }\n",
       "\n",
       "    .dataframe thead th {\n",
       "        text-align: right;\n",
       "    }\n",
       "</style>\n",
       "<table border=\"1\" class=\"dataframe\">\n",
       "  <thead>\n",
       "    <tr style=\"text-align: right;\">\n",
       "      <th></th>\n",
       "      <th>Rank</th>\n",
       "      <th>Name</th>\n",
       "      <th>City</th>\n",
       "      <th>State</th>\n",
       "    </tr>\n",
       "  </thead>\n",
       "  <tbody>\n",
       "    <tr>\n",
       "      <th>0</th>\n",
       "      <td>1</td>\n",
       "      <td>Harvard University</td>\n",
       "      <td>Cambridge</td>\n",
       "      <td>MA</td>\n",
       "    </tr>\n",
       "    <tr>\n",
       "      <th>1</th>\n",
       "      <td>2</td>\n",
       "      <td>Stanford University</td>\n",
       "      <td>Stanford</td>\n",
       "      <td>CA</td>\n",
       "    </tr>\n",
       "    <tr>\n",
       "      <th>2</th>\n",
       "      <td>3</td>\n",
       "      <td>Yale University</td>\n",
       "      <td>New Haven</td>\n",
       "      <td>CT</td>\n",
       "    </tr>\n",
       "    <tr>\n",
       "      <th>3</th>\n",
       "      <td>4</td>\n",
       "      <td>Massachusetts Institute of Technology</td>\n",
       "      <td>Cambridge</td>\n",
       "      <td>MA</td>\n",
       "    </tr>\n",
       "    <tr>\n",
       "      <th>4</th>\n",
       "      <td>5</td>\n",
       "      <td>Princeton University</td>\n",
       "      <td>Princeton</td>\n",
       "      <td>NJ</td>\n",
       "    </tr>\n",
       "  </tbody>\n",
       "</table>\n",
       "</div>"
      ],
      "text/plain": [
       "   Rank                                   Name       City State\n",
       "0     1                     Harvard University  Cambridge    MA\n",
       "1     2                    Stanford University   Stanford    CA\n",
       "2     3                        Yale University  New Haven    CT\n",
       "3     4  Massachusetts Institute of Technology  Cambridge    MA\n",
       "4     5                   Princeton University  Princeton    NJ"
      ]
     },
     "execution_count": 19,
     "metadata": {},
     "output_type": "execute_result"
    }
   ],
   "source": [
    "df_college.iloc[0:5,0:4]"
   ]
  },
  {
   "cell_type": "markdown",
   "metadata": {
    "id": "DwVO9HT7tgmb"
   },
   "source": [
    "Note:\n",
    "\n",
    "As 'City' and 'State' are immediate columns after 'Name', iloc can also be used to get the results"
   ]
  },
  {
   "cell_type": "markdown",
   "metadata": {
    "id": "sNsRW3oNtgmb"
   },
   "source": [
    "### 3) How many states and which all states have the colleges listed by Forbes?"
   ]
  },
  {
   "cell_type": "markdown",
   "metadata": {
    "id": "LrIXs8ZBtgmb"
   },
   "source": [
    "'nunique()' returns number of unique elements in the object. As we want number of unique states, we first pick up the 'State' column of the DataFrame and then call nunique() function"
   ]
  },
  {
   "cell_type": "code",
   "execution_count": 20,
   "metadata": {
    "colab": {
     "base_uri": "https://localhost:8080/"
    },
    "id": "hPmLGCqBtgmb",
    "outputId": "520c64ff-c82d-4c37-b34c-23d89c0d207b"
   },
   "outputs": [
    {
     "data": {
      "text/plain": [
       "51"
      ]
     },
     "execution_count": 20,
     "metadata": {},
     "output_type": "execute_result"
    }
   ],
   "source": [
    "df_college.State.nunique()"
   ]
  },
  {
   "cell_type": "markdown",
   "metadata": {
    "id": "AYeZD7-Ptgmb"
   },
   "source": [
    "'unique()' function returns unique values of Series object. Hence, we first pick up the 'State' column of the DataFrame and then call unique() function to get all all the States"
   ]
  },
  {
   "cell_type": "code",
   "execution_count": 21,
   "metadata": {
    "colab": {
     "base_uri": "https://localhost:8080/"
    },
    "id": "j6CuTyCntgmb",
    "outputId": "6ca097f9-2971-4f07-a3f3-dcd5a1b0750e"
   },
   "outputs": [
    {
     "data": {
      "text/plain": [
       "array(['MA', 'CA', 'CT', 'NJ', 'PA', 'RI', 'NC', 'NH', 'NY', 'DC', 'IL',\n",
       "       'IN', 'MI', 'TX', 'MD', 'ME', 'TN', 'MO', 'VA', 'VT', 'MN', 'GA',\n",
       "       'WA', 'WI', 'FL', 'OH', 'IA', 'CO', 'UT', 'OR', 'LA', 'SC', 'DE',\n",
       "       'AL', 'AZ', 'OK', 'NE', 'KY', 'KS', 'AR', 'WY', 'NV', 'MS', 'ND',\n",
       "       'HI', 'MT', 'SD', 'NM', 'ID', 'WV', 'AK'], dtype=object)"
      ]
     },
     "execution_count": 21,
     "metadata": {},
     "output_type": "execute_result"
    }
   ],
   "source": [
    "df_college.State.unique()"
   ]
  },
  {
   "cell_type": "markdown",
   "metadata": {
    "id": "6iiuMMtGtgmb"
   },
   "source": [
    "### 4) In all how many private and public colleges are there in the given list?"
   ]
  },
  {
   "cell_type": "markdown",
   "metadata": {
    "id": "VbJemXU_tgmb"
   },
   "source": [
    "'Public/Private' column is of object data type in the DataFrame.\n",
    "\n",
    "'value_count()' returns a series containing counts of unique values"
   ]
  },
  {
   "cell_type": "code",
   "execution_count": 22,
   "metadata": {
    "colab": {
     "base_uri": "https://localhost:8080/"
    },
    "id": "RQHDdL4xtgmb",
    "outputId": "3ae185fd-d9bb-4456-dede-bb89165cce41"
   },
   "outputs": [
    {
     "data": {
      "text/plain": [
       "Private    384\n",
       "Public     244\n",
       "Name: Public/Private, dtype: int64"
      ]
     },
     "execution_count": 22,
     "metadata": {},
     "output_type": "execute_result"
    }
   ],
   "source": [
    "df_college['Public/Private'].value_counts()"
   ]
  },
  {
   "cell_type": "markdown",
   "metadata": {
    "id": "D7h5Fcmctgmb"
   },
   "source": [
    "Hence, there are 384 private and 244 public colleges in the given list"
   ]
  },
  {
   "cell_type": "markdown",
   "metadata": {
    "id": "RecfpJzFtgmb"
   },
   "source": [
    "### 5) From the list how many colleges are there within each State? Which State has highest number of colleges?"
   ]
  },
  {
   "cell_type": "markdown",
   "metadata": {
    "id": "yZA5lfSGtgmb"
   },
   "source": [
    "As we have to find number of colleges within each State, we first group (groupby()) the data based on 'State'. For each State we then count the colleges using number of unique values (nunique())  in 'Name' field.\n",
    "\n",
    "As we want the 'State' with highest number of colleges, we sort the values (sort_values()) in descending order to get the results."
   ]
  },
  {
   "cell_type": "markdown",
   "metadata": {},
   "source": [
    "<img src =\"https://i.ibb.co/GcnXVC0/New-York.jpg\" width=80% height =40%></img>"
   ]
  },
  {
   "cell_type": "code",
   "execution_count": 23,
   "metadata": {
    "colab": {
     "base_uri": "https://localhost:8080/"
    },
    "id": "1kxn-0Bttgmb",
    "outputId": "970acca4-080d-4b3d-8906-c53d71a128ca"
   },
   "outputs": [
    {
     "data": {
      "text/plain": [
       "State\n",
       "NY    64\n",
       "CA    56\n",
       "PA    39\n",
       "MA    31\n",
       "OH    29\n",
       "IL    25\n",
       "TX    25\n",
       "FL    20\n",
       "NC    19\n",
       "VA    18\n",
       "IN    18\n",
       "MN    18\n",
       "MI    16\n",
       "GA    14\n",
       "TN    14\n",
       "NJ    13\n",
       "IA    13\n",
       "WI    13\n",
       "WA    12\n",
       "KY    12\n",
       "MD    12\n",
       "MO    12\n",
       "CO    11\n",
       "OR    11\n",
       "CT     9\n",
       "LA     8\n",
       "SC     8\n",
       "AL     7\n",
       "RI     7\n",
       "NE     6\n",
       "OK     6\n",
       "MS     5\n",
       "DC     5\n",
       "ME     5\n",
       "AZ     4\n",
       "MT     4\n",
       "ID     4\n",
       "SD     4\n",
       "UT     4\n",
       "VT     4\n",
       "AR     4\n",
       "KS     3\n",
       "NH     3\n",
       "NM     3\n",
       "AK     2\n",
       "ND     2\n",
       "NV     2\n",
       "DE     1\n",
       "HI     1\n",
       "WV     1\n",
       "WY     1\n",
       "Name: Name, dtype: int64"
      ]
     },
     "execution_count": 23,
     "metadata": {},
     "output_type": "execute_result"
    }
   ],
   "source": [
    "df_college.groupby(by='State').Name.nunique().sort_values(ascending = False)"
   ]
  },
  {
   "cell_type": "markdown",
   "metadata": {
    "id": "oBJ3TdOytgmc"
   },
   "source": [
    "### 6) What is percentage of undergraduates in each college? (Add a new field to calculate)"
   ]
  },
  {
   "cell_type": "markdown",
   "metadata": {
    "id": "YauOIxZqtgmc"
   },
   "source": [
    "Divsion of 'Undergraduate Population' by 'Student Population' multiplied by 100 will give percentage of undergraduates.\n",
    "\n",
    "round() method will round off the derived value to 2 decimal places which is then stored in new field 'Percentage UG'"
   ]
  },
  {
   "cell_type": "code",
   "execution_count": 24,
   "metadata": {
    "id": "_T-Auo3gtgmc"
   },
   "outputs": [],
   "source": [
    "df_college['Percentage UG'] = round(df_college['Undergraduate Population']/df_college['Student Population']*100,2)"
   ]
  },
  {
   "cell_type": "code",
   "execution_count": 25,
   "metadata": {
    "colab": {
     "base_uri": "https://localhost:8080/",
     "height": 272
    },
    "id": "jvRdXy7stgmc",
    "outputId": "ce241cbb-41c3-47c4-da9a-c265aafdfa5d"
   },
   "outputs": [
    {
     "data": {
      "text/html": [
       "<div>\n",
       "<style scoped>\n",
       "    .dataframe tbody tr th:only-of-type {\n",
       "        vertical-align: middle;\n",
       "    }\n",
       "\n",
       "    .dataframe tbody tr th {\n",
       "        vertical-align: top;\n",
       "    }\n",
       "\n",
       "    .dataframe thead th {\n",
       "        text-align: right;\n",
       "    }\n",
       "</style>\n",
       "<table border=\"1\" class=\"dataframe\">\n",
       "  <thead>\n",
       "    <tr style=\"text-align: right;\">\n",
       "      <th></th>\n",
       "      <th>Rank</th>\n",
       "      <th>Name</th>\n",
       "      <th>City</th>\n",
       "      <th>State</th>\n",
       "      <th>Public/Private</th>\n",
       "      <th>Undergraduate Population</th>\n",
       "      <th>Student Population</th>\n",
       "      <th>Net Price</th>\n",
       "      <th>Average Grant Aid</th>\n",
       "      <th>Total Annual Cost</th>\n",
       "      <th>Alumni Salary</th>\n",
       "      <th>Acceptance Rate</th>\n",
       "      <th>Percentage UG</th>\n",
       "    </tr>\n",
       "  </thead>\n",
       "  <tbody>\n",
       "    <tr>\n",
       "      <th>0</th>\n",
       "      <td>1</td>\n",
       "      <td>Harvard University</td>\n",
       "      <td>Cambridge</td>\n",
       "      <td>MA</td>\n",
       "      <td>Private</td>\n",
       "      <td>13844</td>\n",
       "      <td>31120</td>\n",
       "      <td>14327.0</td>\n",
       "      <td>49870.0</td>\n",
       "      <td>69600</td>\n",
       "      <td>146800.0</td>\n",
       "      <td>5.0</td>\n",
       "      <td>44.49</td>\n",
       "    </tr>\n",
       "    <tr>\n",
       "      <th>1</th>\n",
       "      <td>2</td>\n",
       "      <td>Stanford University</td>\n",
       "      <td>Stanford</td>\n",
       "      <td>CA</td>\n",
       "      <td>Private</td>\n",
       "      <td>8402</td>\n",
       "      <td>17534</td>\n",
       "      <td>13261.0</td>\n",
       "      <td>50134.0</td>\n",
       "      <td>69109</td>\n",
       "      <td>145200.0</td>\n",
       "      <td>5.0</td>\n",
       "      <td>47.92</td>\n",
       "    </tr>\n",
       "    <tr>\n",
       "      <th>2</th>\n",
       "      <td>3</td>\n",
       "      <td>Yale University</td>\n",
       "      <td>New Haven</td>\n",
       "      <td>CT</td>\n",
       "      <td>Private</td>\n",
       "      <td>6483</td>\n",
       "      <td>12974</td>\n",
       "      <td>18627.0</td>\n",
       "      <td>50897.0</td>\n",
       "      <td>71290</td>\n",
       "      <td>138300.0</td>\n",
       "      <td>7.0</td>\n",
       "      <td>49.97</td>\n",
       "    </tr>\n",
       "    <tr>\n",
       "      <th>3</th>\n",
       "      <td>4</td>\n",
       "      <td>Massachusetts Institute of Technology</td>\n",
       "      <td>Cambridge</td>\n",
       "      <td>MA</td>\n",
       "      <td>Private</td>\n",
       "      <td>4680</td>\n",
       "      <td>11466</td>\n",
       "      <td>20771.0</td>\n",
       "      <td>43248.0</td>\n",
       "      <td>67430</td>\n",
       "      <td>155200.0</td>\n",
       "      <td>7.0</td>\n",
       "      <td>40.82</td>\n",
       "    </tr>\n",
       "    <tr>\n",
       "      <th>4</th>\n",
       "      <td>5</td>\n",
       "      <td>Princeton University</td>\n",
       "      <td>Princeton</td>\n",
       "      <td>NJ</td>\n",
       "      <td>Private</td>\n",
       "      <td>5659</td>\n",
       "      <td>8273</td>\n",
       "      <td>9327.0</td>\n",
       "      <td>48088.0</td>\n",
       "      <td>66150</td>\n",
       "      <td>139400.0</td>\n",
       "      <td>6.0</td>\n",
       "      <td>68.40</td>\n",
       "    </tr>\n",
       "  </tbody>\n",
       "</table>\n",
       "</div>"
      ],
      "text/plain": [
       "   Rank                                   Name       City State  \\\n",
       "0     1                     Harvard University  Cambridge    MA   \n",
       "1     2                    Stanford University   Stanford    CA   \n",
       "2     3                        Yale University  New Haven    CT   \n",
       "3     4  Massachusetts Institute of Technology  Cambridge    MA   \n",
       "4     5                   Princeton University  Princeton    NJ   \n",
       "\n",
       "  Public/Private  Undergraduate Population  Student Population  Net Price  \\\n",
       "0        Private                     13844               31120    14327.0   \n",
       "1        Private                      8402               17534    13261.0   \n",
       "2        Private                      6483               12974    18627.0   \n",
       "3        Private                      4680               11466    20771.0   \n",
       "4        Private                      5659                8273     9327.0   \n",
       "\n",
       "   Average Grant Aid  Total Annual Cost  Alumni Salary  Acceptance Rate  \\\n",
       "0            49870.0              69600       146800.0              5.0   \n",
       "1            50134.0              69109       145200.0              5.0   \n",
       "2            50897.0              71290       138300.0              7.0   \n",
       "3            43248.0              67430       155200.0              7.0   \n",
       "4            48088.0              66150       139400.0              6.0   \n",
       "\n",
       "   Percentage UG  \n",
       "0          44.49  \n",
       "1          47.92  \n",
       "2          49.97  \n",
       "3          40.82  \n",
       "4          68.40  "
      ]
     },
     "execution_count": 25,
     "metadata": {},
     "output_type": "execute_result"
    }
   ],
   "source": [
    "df_college.head()"
   ]
  },
  {
   "cell_type": "code",
   "execution_count": null,
   "metadata": {},
   "outputs": [],
   "source": [
    "df[['Name','Percentage UG']].head()"
   ]
  },
  {
   "cell_type": "markdown",
   "metadata": {
    "id": "ussS2oQKtgmc"
   },
   "source": [
    "Note:\n",
    "\n",
    "New field gets added at end of the DataFrame"
   ]
  },
  {
   "cell_type": "markdown",
   "metadata": {
    "id": "GnCS2q0vtgmc"
   },
   "source": [
    "### 7) Which are the 5 colleges with highest percentage of undergraduates?"
   ]
  },
  {
   "cell_type": "markdown",
   "metadata": {
    "id": "4z6v1g5atgmc"
   },
   "source": [
    "Let's just pick up 'Name' and 'Percentage UG' field, sort by 'Percentage UG' in descending order to get the desired ouput"
   ]
  },
  {
   "cell_type": "code",
   "execution_count": 26,
   "metadata": {
    "colab": {
     "base_uri": "https://localhost:8080/",
     "height": 204
    },
    "id": "S0_s3CPHtgmc",
    "outputId": "b9049346-6551-44da-f315-c3dfd57bab2b"
   },
   "outputs": [
    {
     "data": {
      "text/html": [
       "<div>\n",
       "<style scoped>\n",
       "    .dataframe tbody tr th:only-of-type {\n",
       "        vertical-align: middle;\n",
       "    }\n",
       "\n",
       "    .dataframe tbody tr th {\n",
       "        vertical-align: top;\n",
       "    }\n",
       "\n",
       "    .dataframe thead th {\n",
       "        text-align: right;\n",
       "    }\n",
       "</style>\n",
       "<table border=\"1\" class=\"dataframe\">\n",
       "  <thead>\n",
       "    <tr style=\"text-align: right;\">\n",
       "      <th></th>\n",
       "      <th>Name</th>\n",
       "      <th>Percentage UG</th>\n",
       "    </tr>\n",
       "  </thead>\n",
       "  <tbody>\n",
       "    <tr>\n",
       "      <th>556</th>\n",
       "      <td>University of Texas, Rio Grande Valley</td>\n",
       "      <td>99.99</td>\n",
       "    </tr>\n",
       "    <tr>\n",
       "      <th>246</th>\n",
       "      <td>Saint John's University (MN)</td>\n",
       "      <td>99.94</td>\n",
       "    </tr>\n",
       "    <tr>\n",
       "      <th>552</th>\n",
       "      <td>Oakland University</td>\n",
       "      <td>99.94</td>\n",
       "    </tr>\n",
       "    <tr>\n",
       "      <th>357</th>\n",
       "      <td>Salisbury University</td>\n",
       "      <td>99.92</td>\n",
       "    </tr>\n",
       "    <tr>\n",
       "      <th>338</th>\n",
       "      <td>St. Norbert College</td>\n",
       "      <td>99.86</td>\n",
       "    </tr>\n",
       "  </tbody>\n",
       "</table>\n",
       "</div>"
      ],
      "text/plain": [
       "                                       Name  Percentage UG\n",
       "556  University of Texas, Rio Grande Valley          99.99\n",
       "246            Saint John's University (MN)          99.94\n",
       "552                      Oakland University          99.94\n",
       "357                    Salisbury University          99.92\n",
       "338                     St. Norbert College          99.86"
      ]
     },
     "execution_count": 26,
     "metadata": {},
     "output_type": "execute_result"
    }
   ],
   "source": [
    "df_college[['Name','Percentage UG']].sort_values(by='Percentage UG', ascending = False).head(5)"
   ]
  },
  {
   "cell_type": "markdown",
   "metadata": {
    "id": "NcK8UBrXtgmc"
   },
   "source": [
    "### 8) 5 colleges that receive highest Average Grant Aid?"
   ]
  },
  {
   "cell_type": "markdown",
   "metadata": {
    "id": "cUQFFFGGtgmc"
   },
   "source": [
    "Sort 'Average Grant Aid' in descending order and pick up the top 5 colleges using 'Name' field"
   ]
  },
  {
   "cell_type": "markdown",
   "metadata": {},
   "source": [
    "<img src =\"https://i.ibb.co/TMtRJ54/Yale.jpg\" width=80% height =40%></img>"
   ]
  },
  {
   "cell_type": "code",
   "execution_count": 38,
   "metadata": {
    "colab": {
     "base_uri": "https://localhost:8080/"
    },
    "id": "kG0vlM2stgmc",
    "outputId": "89ca5f7a-416d-4164-8489-2d05d117feae"
   },
   "outputs": [
    {
     "data": {
      "text/plain": [
       "2         Yale University\n",
       "1     Stanford University\n",
       "0      Harvard University\n",
       "26        Amherst College\n",
       "13    Columbia University\n",
       "Name: Name, dtype: object"
      ]
     },
     "execution_count": 38,
     "metadata": {},
     "output_type": "execute_result"
    }
   ],
   "source": [
    "df_college.sort_values(by='Average Grant Aid', ascending = False).Name.head(5)"
   ]
  },
  {
   "cell_type": "markdown",
   "metadata": {
    "id": "PZLBR78btgmc"
   },
   "source": [
    "\n",
    "### 9) What is the average Undergraduate population in State of 'CA'?"
   ]
  },
  {
   "cell_type": "markdown",
   "metadata": {
    "id": "Z_r3MnY6tgmc"
   },
   "source": [
    "First lets filter the DataFrame and get only rows with 'State' as 'CA'\n",
    "\n",
    "We then pick up the 'Undergraduate Population' for the above subset and calculate its mean\n",
    "\n",
    "round off the final value to 2 decimal places using the round() function"
   ]
  },
  {
   "cell_type": "code",
   "execution_count": 28,
   "metadata": {
    "colab": {
     "base_uri": "https://localhost:8080/"
    },
    "id": "WZ8M0xE8tgmc",
    "outputId": "5d17ec8b-95b3-401f-fb55-9b17fadedc3c"
   },
   "outputs": [
    {
     "data": {
      "text/plain": [
       "13186.91"
      ]
     },
     "execution_count": 28,
     "metadata": {},
     "output_type": "execute_result"
    }
   ],
   "source": [
    "round(df_college[df_college.State == 'CA']['Undergraduate Population'].mean(),2)"
   ]
  },
  {
   "cell_type": "markdown",
   "metadata": {
    "id": "_jpeG1v-tgmc"
   },
   "source": [
    "### 10) Which are the colleges where chances of admission is high?"
   ]
  },
  {
   "cell_type": "markdown",
   "metadata": {
    "id": "1hcolpQwtgmc"
   },
   "source": [
    "As per the data dictionary 'Acceptance Rate' field provides information on chances of admission. We can sort this column in descending order to get the results"
   ]
  },
  {
   "cell_type": "code",
   "execution_count": 29,
   "metadata": {
    "colab": {
     "base_uri": "https://localhost:8080/",
     "height": 289
    },
    "id": "rW86etpLtgmd",
    "outputId": "79541235-3cc3-4676-96df-7c7f528a3c32"
   },
   "outputs": [
    {
     "data": {
      "text/html": [
       "<div>\n",
       "<style scoped>\n",
       "    .dataframe tbody tr th:only-of-type {\n",
       "        vertical-align: middle;\n",
       "    }\n",
       "\n",
       "    .dataframe tbody tr th {\n",
       "        vertical-align: top;\n",
       "    }\n",
       "\n",
       "    .dataframe thead th {\n",
       "        text-align: right;\n",
       "    }\n",
       "</style>\n",
       "<table border=\"1\" class=\"dataframe\">\n",
       "  <thead>\n",
       "    <tr style=\"text-align: right;\">\n",
       "      <th></th>\n",
       "      <th>Rank</th>\n",
       "      <th>Name</th>\n",
       "      <th>City</th>\n",
       "      <th>State</th>\n",
       "      <th>Public/Private</th>\n",
       "      <th>Undergraduate Population</th>\n",
       "      <th>Student Population</th>\n",
       "      <th>Net Price</th>\n",
       "      <th>Average Grant Aid</th>\n",
       "      <th>Total Annual Cost</th>\n",
       "      <th>Alumni Salary</th>\n",
       "      <th>Acceptance Rate</th>\n",
       "      <th>Percentage UG</th>\n",
       "    </tr>\n",
       "  </thead>\n",
       "  <tbody>\n",
       "    <tr>\n",
       "      <th>588</th>\n",
       "      <td>606</td>\n",
       "      <td>University of Texas, El Paso</td>\n",
       "      <td>El Paso</td>\n",
       "      <td>TX</td>\n",
       "      <td>Public</td>\n",
       "      <td>24386</td>\n",
       "      <td>25078</td>\n",
       "      <td>8135.0</td>\n",
       "      <td>9183.0</td>\n",
       "      <td>36955</td>\n",
       "      <td>92100.0</td>\n",
       "      <td>100.0</td>\n",
       "      <td>97.24</td>\n",
       "    </tr>\n",
       "    <tr>\n",
       "      <th>607</th>\n",
       "      <td>627</td>\n",
       "      <td>University of Southern Mississippi</td>\n",
       "      <td>Hattiesburg</td>\n",
       "      <td>MS</td>\n",
       "      <td>Public</td>\n",
       "      <td>13606</td>\n",
       "      <td>14478</td>\n",
       "      <td>13178.0</td>\n",
       "      <td>9292.0</td>\n",
       "      <td>24883</td>\n",
       "      <td>83900.0</td>\n",
       "      <td>98.0</td>\n",
       "      <td>93.98</td>\n",
       "    </tr>\n",
       "    <tr>\n",
       "      <th>339</th>\n",
       "      <td>347</td>\n",
       "      <td>University of Wyoming</td>\n",
       "      <td>Laramie</td>\n",
       "      <td>WY</td>\n",
       "      <td>Public</td>\n",
       "      <td>10874</td>\n",
       "      <td>12397</td>\n",
       "      <td>13070.0</td>\n",
       "      <td>7422.0</td>\n",
       "      <td>31387</td>\n",
       "      <td>98800.0</td>\n",
       "      <td>97.0</td>\n",
       "      <td>87.71</td>\n",
       "    </tr>\n",
       "    <tr>\n",
       "      <th>616</th>\n",
       "      <td>638</td>\n",
       "      <td>Wright State University</td>\n",
       "      <td>Dayton</td>\n",
       "      <td>OH</td>\n",
       "      <td>Public</td>\n",
       "      <td>14332</td>\n",
       "      <td>15957</td>\n",
       "      <td>16249.0</td>\n",
       "      <td>6546.0</td>\n",
       "      <td>32506</td>\n",
       "      <td>87800.0</td>\n",
       "      <td>97.0</td>\n",
       "      <td>89.82</td>\n",
       "    </tr>\n",
       "    <tr>\n",
       "      <th>300</th>\n",
       "      <td>308</td>\n",
       "      <td>University of Kentucky</td>\n",
       "      <td>Lexington</td>\n",
       "      <td>KY</td>\n",
       "      <td>Public</td>\n",
       "      <td>23718</td>\n",
       "      <td>29465</td>\n",
       "      <td>18527.0</td>\n",
       "      <td>9387.0</td>\n",
       "      <td>45634</td>\n",
       "      <td>96400.0</td>\n",
       "      <td>96.0</td>\n",
       "      <td>80.50</td>\n",
       "    </tr>\n",
       "  </tbody>\n",
       "</table>\n",
       "</div>"
      ],
      "text/plain": [
       "     Rank                                Name         City State  \\\n",
       "588   606        University of Texas, El Paso      El Paso    TX   \n",
       "607   627  University of Southern Mississippi  Hattiesburg    MS   \n",
       "339   347               University of Wyoming      Laramie    WY   \n",
       "616   638             Wright State University       Dayton    OH   \n",
       "300   308              University of Kentucky    Lexington    KY   \n",
       "\n",
       "    Public/Private  Undergraduate Population  Student Population  Net Price  \\\n",
       "588         Public                     24386               25078     8135.0   \n",
       "607         Public                     13606               14478    13178.0   \n",
       "339         Public                     10874               12397    13070.0   \n",
       "616         Public                     14332               15957    16249.0   \n",
       "300         Public                     23718               29465    18527.0   \n",
       "\n",
       "     Average Grant Aid  Total Annual Cost  Alumni Salary  Acceptance Rate  \\\n",
       "588             9183.0              36955        92100.0            100.0   \n",
       "607             9292.0              24883        83900.0             98.0   \n",
       "339             7422.0              31387        98800.0             97.0   \n",
       "616             6546.0              32506        87800.0             97.0   \n",
       "300             9387.0              45634        96400.0             96.0   \n",
       "\n",
       "     Percentage UG  \n",
       "588          97.24  \n",
       "607          93.98  \n",
       "339          87.71  \n",
       "616          89.82  \n",
       "300          80.50  "
      ]
     },
     "execution_count": 29,
     "metadata": {},
     "output_type": "execute_result"
    }
   ],
   "source": [
    "df_college.sort_values(by='Acceptance Rate', ascending = False).head(5)"
   ]
  },
  {
   "cell_type": "markdown",
   "metadata": {
    "id": "1ORWPdmutgmd"
   },
   "source": [
    "### 11) Find if there are any 'Art' colleges in the list"
   ]
  },
  {
   "cell_type": "markdown",
   "metadata": {
    "id": "fP5vmlQctgmd"
   },
   "source": [
    "To find a specific string value 'Art' we will use the 'contains()' method. We will pass the string in the paranthesis which needs to be located in the dataframe variable."
   ]
  },
  {
   "cell_type": "code",
   "execution_count": 30,
   "metadata": {
    "id": "mXknVr1Vtgmd",
    "outputId": "2342e7b0-f455-4b06-9371-8afb3766eb5f"
   },
   "outputs": [
    {
     "data": {
      "text/html": [
       "<div>\n",
       "<style scoped>\n",
       "    .dataframe tbody tr th:only-of-type {\n",
       "        vertical-align: middle;\n",
       "    }\n",
       "\n",
       "    .dataframe tbody tr th {\n",
       "        vertical-align: top;\n",
       "    }\n",
       "\n",
       "    .dataframe thead th {\n",
       "        text-align: right;\n",
       "    }\n",
       "</style>\n",
       "<table border=\"1\" class=\"dataframe\">\n",
       "  <thead>\n",
       "    <tr style=\"text-align: right;\">\n",
       "      <th></th>\n",
       "      <th>Rank</th>\n",
       "      <th>Name</th>\n",
       "      <th>City</th>\n",
       "      <th>State</th>\n",
       "      <th>Public/Private</th>\n",
       "      <th>Undergraduate Population</th>\n",
       "      <th>Student Population</th>\n",
       "      <th>Net Price</th>\n",
       "      <th>Average Grant Aid</th>\n",
       "      <th>Total Annual Cost</th>\n",
       "      <th>Alumni Salary</th>\n",
       "      <th>Acceptance Rate</th>\n",
       "      <th>Percentage UG</th>\n",
       "    </tr>\n",
       "  </thead>\n",
       "  <tbody>\n",
       "    <tr>\n",
       "      <th>295</th>\n",
       "      <td>303</td>\n",
       "      <td>Maryland Institute College of Art</td>\n",
       "      <td>Baltimore</td>\n",
       "      <td>MD</td>\n",
       "      <td>Private</td>\n",
       "      <td>2041</td>\n",
       "      <td>2128</td>\n",
       "      <td>38763.0</td>\n",
       "      <td>18939.0</td>\n",
       "      <td>62850</td>\n",
       "      <td>84500.0</td>\n",
       "      <td>62.0</td>\n",
       "      <td>95.91</td>\n",
       "    </tr>\n",
       "    <tr>\n",
       "      <th>393</th>\n",
       "      <td>402</td>\n",
       "      <td>California Institute of the Arts</td>\n",
       "      <td>Santa Clarita</td>\n",
       "      <td>CA</td>\n",
       "      <td>Private</td>\n",
       "      <td>991</td>\n",
       "      <td>1498</td>\n",
       "      <td>46101.0</td>\n",
       "      <td>15401.0</td>\n",
       "      <td>68993</td>\n",
       "      <td>91000.0</td>\n",
       "      <td>24.0</td>\n",
       "      <td>66.15</td>\n",
       "    </tr>\n",
       "  </tbody>\n",
       "</table>\n",
       "</div>"
      ],
      "text/plain": [
       "     Rank                               Name           City State  \\\n",
       "295   303  Maryland Institute College of Art      Baltimore    MD   \n",
       "393   402   California Institute of the Arts  Santa Clarita    CA   \n",
       "\n",
       "    Public/Private  Undergraduate Population  Student Population  Net Price  \\\n",
       "295        Private                      2041                2128    38763.0   \n",
       "393        Private                       991                1498    46101.0   \n",
       "\n",
       "     Average Grant Aid  Total Annual Cost  Alumni Salary  Acceptance Rate  \\\n",
       "295            18939.0              62850        84500.0             62.0   \n",
       "393            15401.0              68993        91000.0             24.0   \n",
       "\n",
       "     Percentage UG  \n",
       "295          95.91  \n",
       "393          66.15  "
      ]
     },
     "execution_count": 30,
     "metadata": {},
     "output_type": "execute_result"
    }
   ],
   "source": [
    "df_college[df_college['Name'].str.contains(\"Art\")]"
   ]
  },
  {
   "cell_type": "markdown",
   "metadata": {
    "id": "WuPrMG2Jtgmd"
   },
   "source": [
    "### 12) Lets divide the Alumni Salary equally into 3 buckets (Low Salary - L; Medium Salary - M; High Salary - H ) and check which colleges falls in 'H' bucket"
   ]
  },
  {
   "cell_type": "code",
   "execution_count": 31,
   "metadata": {
    "id": "ZBrzuKHOtgmd"
   },
   "outputs": [],
   "source": [
    "df_college_new = df_college.copy()"
   ]
  },
  {
   "cell_type": "markdown",
   "metadata": {
    "id": "1Y4cKc9ztgmd"
   },
   "source": [
    "Take a copy of the original DataFrame to work on"
   ]
  },
  {
   "cell_type": "code",
   "execution_count": 32,
   "metadata": {
    "id": "OCoOgQSttgmd"
   },
   "outputs": [],
   "source": [
    "df_college_new['Alumni Sal Level']=pd.cut(df_college_new['Alumni Salary'], 3, labels =[\"L\", \"M\", \"H\"])"
   ]
  },
  {
   "cell_type": "markdown",
   "metadata": {
    "id": "SchXFRAYtgmd"
   },
   "source": [
    "'cut()' function bins values into discrete intervals. 'cut()' function is used when you need to segment and sort data values into bins. This function is also useful for going from a continuous variable to a categorical variable.\n",
    "\n",
    "In the above code we have created 3 bins using 'Alumni Salary' column. Lowest range of salary is labelled as 'L', middle range is labelled as 'M' and highest range of salary is labelled as 'H'. These labels are saved in a new column 'Alumni Sal Level'.\n",
    "\n",
    "Note: The entire range of the 'Alumni Salary' has been divided into 3 equal ranges i.e. 3 bins"
   ]
  },
  {
   "cell_type": "code",
   "execution_count": 33,
   "metadata": {
    "colab": {
     "base_uri": "https://localhost:8080/",
     "height": 272
    },
    "id": "69_t2FTZtgmd",
    "outputId": "790221d6-ffc0-43dd-ce16-0b75d4df5f8a"
   },
   "outputs": [
    {
     "data": {
      "text/html": [
       "<div>\n",
       "<style scoped>\n",
       "    .dataframe tbody tr th:only-of-type {\n",
       "        vertical-align: middle;\n",
       "    }\n",
       "\n",
       "    .dataframe tbody tr th {\n",
       "        vertical-align: top;\n",
       "    }\n",
       "\n",
       "    .dataframe thead th {\n",
       "        text-align: right;\n",
       "    }\n",
       "</style>\n",
       "<table border=\"1\" class=\"dataframe\">\n",
       "  <thead>\n",
       "    <tr style=\"text-align: right;\">\n",
       "      <th></th>\n",
       "      <th>Rank</th>\n",
       "      <th>Name</th>\n",
       "      <th>City</th>\n",
       "      <th>State</th>\n",
       "      <th>Public/Private</th>\n",
       "      <th>Undergraduate Population</th>\n",
       "      <th>Student Population</th>\n",
       "      <th>Net Price</th>\n",
       "      <th>Average Grant Aid</th>\n",
       "      <th>Total Annual Cost</th>\n",
       "      <th>Alumni Salary</th>\n",
       "      <th>Acceptance Rate</th>\n",
       "      <th>Percentage UG</th>\n",
       "      <th>Alumni Sal Level</th>\n",
       "    </tr>\n",
       "  </thead>\n",
       "  <tbody>\n",
       "    <tr>\n",
       "      <th>0</th>\n",
       "      <td>1</td>\n",
       "      <td>Harvard University</td>\n",
       "      <td>Cambridge</td>\n",
       "      <td>MA</td>\n",
       "      <td>Private</td>\n",
       "      <td>13844</td>\n",
       "      <td>31120</td>\n",
       "      <td>14327.0</td>\n",
       "      <td>49870.0</td>\n",
       "      <td>69600</td>\n",
       "      <td>146800.0</td>\n",
       "      <td>5.0</td>\n",
       "      <td>44.49</td>\n",
       "      <td>H</td>\n",
       "    </tr>\n",
       "    <tr>\n",
       "      <th>1</th>\n",
       "      <td>2</td>\n",
       "      <td>Stanford University</td>\n",
       "      <td>Stanford</td>\n",
       "      <td>CA</td>\n",
       "      <td>Private</td>\n",
       "      <td>8402</td>\n",
       "      <td>17534</td>\n",
       "      <td>13261.0</td>\n",
       "      <td>50134.0</td>\n",
       "      <td>69109</td>\n",
       "      <td>145200.0</td>\n",
       "      <td>5.0</td>\n",
       "      <td>47.92</td>\n",
       "      <td>H</td>\n",
       "    </tr>\n",
       "    <tr>\n",
       "      <th>2</th>\n",
       "      <td>3</td>\n",
       "      <td>Yale University</td>\n",
       "      <td>New Haven</td>\n",
       "      <td>CT</td>\n",
       "      <td>Private</td>\n",
       "      <td>6483</td>\n",
       "      <td>12974</td>\n",
       "      <td>18627.0</td>\n",
       "      <td>50897.0</td>\n",
       "      <td>71290</td>\n",
       "      <td>138300.0</td>\n",
       "      <td>7.0</td>\n",
       "      <td>49.97</td>\n",
       "      <td>H</td>\n",
       "    </tr>\n",
       "    <tr>\n",
       "      <th>3</th>\n",
       "      <td>4</td>\n",
       "      <td>Massachusetts Institute of Technology</td>\n",
       "      <td>Cambridge</td>\n",
       "      <td>MA</td>\n",
       "      <td>Private</td>\n",
       "      <td>4680</td>\n",
       "      <td>11466</td>\n",
       "      <td>20771.0</td>\n",
       "      <td>43248.0</td>\n",
       "      <td>67430</td>\n",
       "      <td>155200.0</td>\n",
       "      <td>7.0</td>\n",
       "      <td>40.82</td>\n",
       "      <td>H</td>\n",
       "    </tr>\n",
       "    <tr>\n",
       "      <th>4</th>\n",
       "      <td>5</td>\n",
       "      <td>Princeton University</td>\n",
       "      <td>Princeton</td>\n",
       "      <td>NJ</td>\n",
       "      <td>Private</td>\n",
       "      <td>5659</td>\n",
       "      <td>8273</td>\n",
       "      <td>9327.0</td>\n",
       "      <td>48088.0</td>\n",
       "      <td>66150</td>\n",
       "      <td>139400.0</td>\n",
       "      <td>6.0</td>\n",
       "      <td>68.40</td>\n",
       "      <td>H</td>\n",
       "    </tr>\n",
       "  </tbody>\n",
       "</table>\n",
       "</div>"
      ],
      "text/plain": [
       "   Rank                                   Name       City State  \\\n",
       "0     1                     Harvard University  Cambridge    MA   \n",
       "1     2                    Stanford University   Stanford    CA   \n",
       "2     3                        Yale University  New Haven    CT   \n",
       "3     4  Massachusetts Institute of Technology  Cambridge    MA   \n",
       "4     5                   Princeton University  Princeton    NJ   \n",
       "\n",
       "  Public/Private  Undergraduate Population  Student Population  Net Price  \\\n",
       "0        Private                     13844               31120    14327.0   \n",
       "1        Private                      8402               17534    13261.0   \n",
       "2        Private                      6483               12974    18627.0   \n",
       "3        Private                      4680               11466    20771.0   \n",
       "4        Private                      5659                8273     9327.0   \n",
       "\n",
       "   Average Grant Aid  Total Annual Cost  Alumni Salary  Acceptance Rate  \\\n",
       "0            49870.0              69600       146800.0              5.0   \n",
       "1            50134.0              69109       145200.0              5.0   \n",
       "2            50897.0              71290       138300.0              7.0   \n",
       "3            43248.0              67430       155200.0              7.0   \n",
       "4            48088.0              66150       139400.0              6.0   \n",
       "\n",
       "   Percentage UG Alumni Sal Level  \n",
       "0          44.49                H  \n",
       "1          47.92                H  \n",
       "2          49.97                H  \n",
       "3          40.82                H  \n",
       "4          68.40                H  "
      ]
     },
     "execution_count": 33,
     "metadata": {},
     "output_type": "execute_result"
    }
   ],
   "source": [
    "df_college_new.head()"
   ]
  },
  {
   "cell_type": "code",
   "execution_count": 34,
   "metadata": {
    "colab": {
     "base_uri": "https://localhost:8080/"
    },
    "id": "Aa2Awqd7tgmd",
    "outputId": "b60efa05-816f-4154-c965-04355a536a67"
   },
   "outputs": [
    {
     "data": {
      "text/plain": [
       "L    383\n",
       "M    217\n",
       "H     28\n",
       "Name: Alumni Sal Level, dtype: int64"
      ]
     },
     "execution_count": 34,
     "metadata": {},
     "output_type": "execute_result"
    }
   ],
   "source": [
    "df_college_new['Alumni Sal Level'].value_counts()"
   ]
  },
  {
   "cell_type": "markdown",
   "metadata": {
    "id": "2YP9YcPwtgmd"
   },
   "source": [
    "Note:\n",
    "There are only 28 colleges in the High Alumni Salary Range"
   ]
  },
  {
   "cell_type": "markdown",
   "metadata": {
    "id": "GePZYooGtgmd"
   },
   "source": [
    "### 13) Let's check the mean Alumni Salary at each level"
   ]
  },
  {
   "cell_type": "code",
   "execution_count": 35,
   "metadata": {
    "colab": {
     "base_uri": "https://localhost:8080/"
    },
    "id": "Mo3yAIFitgmd",
    "outputId": "590a77fa-7715-41c6-a2cf-bc2332751dfe"
   },
   "outputs": [
    {
     "data": {
      "text/plain": [
       "Alumni Sal Level\n",
       "L     89835.77\n",
       "M    109086.64\n",
       "H    137575.00\n",
       "Name: Alumni Salary, dtype: float64"
      ]
     },
     "execution_count": 35,
     "metadata": {},
     "output_type": "execute_result"
    }
   ],
   "source": [
    "round(df_college_new.groupby('Alumni Sal Level')['Alumni Salary'].mean(),2)"
   ]
  },
  {
   "cell_type": "markdown",
   "metadata": {
    "id": "3twplwj1tgmd"
   },
   "source": [
    "### 14) Let's create a new dataframe to further analyze the 28 colleges with High Alumni Salary "
   ]
  },
  {
   "cell_type": "code",
   "execution_count": 36,
   "metadata": {
    "id": "oblq2Umotgmd"
   },
   "outputs": [],
   "source": [
    "df_high_alumnisal = df_college_new[df_college_new['Alumni Sal Level'] == 'H']"
   ]
  },
  {
   "cell_type": "markdown",
   "metadata": {
    "id": "jR6Z14Omtgmd"
   },
   "source": [
    "Passing 'include = 'all'' to describe() method provides descriptive summary of all fields in the DataFrame. 'T' property transposes the table which helps in reviewing the statistics per column"
   ]
  },
  {
   "cell_type": "code",
   "execution_count": 37,
   "metadata": {
    "colab": {
     "base_uri": "https://localhost:8080/",
     "height": 483
    },
    "id": "kJSjcjnRtgmd",
    "outputId": "567bd7c4-a650-491e-f778-8933db9c2764"
   },
   "outputs": [
    {
     "data": {
      "text/html": [
       "<div>\n",
       "<style scoped>\n",
       "    .dataframe tbody tr th:only-of-type {\n",
       "        vertical-align: middle;\n",
       "    }\n",
       "\n",
       "    .dataframe tbody tr th {\n",
       "        vertical-align: top;\n",
       "    }\n",
       "\n",
       "    .dataframe thead th {\n",
       "        text-align: right;\n",
       "    }\n",
       "</style>\n",
       "<table border=\"1\" class=\"dataframe\">\n",
       "  <thead>\n",
       "    <tr style=\"text-align: right;\">\n",
       "      <th></th>\n",
       "      <th>count</th>\n",
       "      <th>unique</th>\n",
       "      <th>top</th>\n",
       "      <th>freq</th>\n",
       "      <th>mean</th>\n",
       "      <th>std</th>\n",
       "      <th>min</th>\n",
       "      <th>25%</th>\n",
       "      <th>50%</th>\n",
       "      <th>75%</th>\n",
       "      <th>max</th>\n",
       "    </tr>\n",
       "  </thead>\n",
       "  <tbody>\n",
       "    <tr>\n",
       "      <th>Rank</th>\n",
       "      <td>28</td>\n",
       "      <td>NaN</td>\n",
       "      <td>NaN</td>\n",
       "      <td>NaN</td>\n",
       "      <td>68.8571</td>\n",
       "      <td>87.5001</td>\n",
       "      <td>1</td>\n",
       "      <td>8.75</td>\n",
       "      <td>41.5</td>\n",
       "      <td>93.25</td>\n",
       "      <td>333</td>\n",
       "    </tr>\n",
       "    <tr>\n",
       "      <th>Name</th>\n",
       "      <td>28</td>\n",
       "      <td>28</td>\n",
       "      <td>Stevens Institute of Technology</td>\n",
       "      <td>1</td>\n",
       "      <td>NaN</td>\n",
       "      <td>NaN</td>\n",
       "      <td>NaN</td>\n",
       "      <td>NaN</td>\n",
       "      <td>NaN</td>\n",
       "      <td>NaN</td>\n",
       "      <td>NaN</td>\n",
       "    </tr>\n",
       "    <tr>\n",
       "      <th>City</th>\n",
       "      <td>28</td>\n",
       "      <td>27</td>\n",
       "      <td>Cambridge</td>\n",
       "      <td>2</td>\n",
       "      <td>NaN</td>\n",
       "      <td>NaN</td>\n",
       "      <td>NaN</td>\n",
       "      <td>NaN</td>\n",
       "      <td>NaN</td>\n",
       "      <td>NaN</td>\n",
       "      <td>NaN</td>\n",
       "    </tr>\n",
       "    <tr>\n",
       "      <th>State</th>\n",
       "      <td>28</td>\n",
       "      <td>12</td>\n",
       "      <td>CA</td>\n",
       "      <td>6</td>\n",
       "      <td>NaN</td>\n",
       "      <td>NaN</td>\n",
       "      <td>NaN</td>\n",
       "      <td>NaN</td>\n",
       "      <td>NaN</td>\n",
       "      <td>NaN</td>\n",
       "      <td>NaN</td>\n",
       "    </tr>\n",
       "    <tr>\n",
       "      <th>Public/Private</th>\n",
       "      <td>28</td>\n",
       "      <td>2</td>\n",
       "      <td>Private</td>\n",
       "      <td>22</td>\n",
       "      <td>NaN</td>\n",
       "      <td>NaN</td>\n",
       "      <td>NaN</td>\n",
       "      <td>NaN</td>\n",
       "      <td>NaN</td>\n",
       "      <td>NaN</td>\n",
       "      <td>NaN</td>\n",
       "    </tr>\n",
       "    <tr>\n",
       "      <th>Undergraduate Population</th>\n",
       "      <td>28</td>\n",
       "      <td>NaN</td>\n",
       "      <td>NaN</td>\n",
       "      <td>NaN</td>\n",
       "      <td>6389.54</td>\n",
       "      <td>6290.91</td>\n",
       "      <td>847</td>\n",
       "      <td>2759</td>\n",
       "      <td>4752</td>\n",
       "      <td>7001.75</td>\n",
       "      <td>31133</td>\n",
       "    </tr>\n",
       "    <tr>\n",
       "      <th>Student Population</th>\n",
       "      <td>28</td>\n",
       "      <td>NaN</td>\n",
       "      <td>NaN</td>\n",
       "      <td>NaN</td>\n",
       "      <td>10603.3</td>\n",
       "      <td>10225.9</td>\n",
       "      <td>861</td>\n",
       "      <td>3253</td>\n",
       "      <td>7019.5</td>\n",
       "      <td>13197.8</td>\n",
       "      <td>41891</td>\n",
       "    </tr>\n",
       "    <tr>\n",
       "      <th>Net Price</th>\n",
       "      <td>28</td>\n",
       "      <td>NaN</td>\n",
       "      <td>NaN</td>\n",
       "      <td>NaN</td>\n",
       "      <td>25288.6</td>\n",
       "      <td>9526.08</td>\n",
       "      <td>6758</td>\n",
       "      <td>17913.8</td>\n",
       "      <td>24977.5</td>\n",
       "      <td>34275</td>\n",
       "      <td>40376</td>\n",
       "    </tr>\n",
       "    <tr>\n",
       "      <th>Average Grant Aid</th>\n",
       "      <td>28</td>\n",
       "      <td>NaN</td>\n",
       "      <td>NaN</td>\n",
       "      <td>NaN</td>\n",
       "      <td>32340.5</td>\n",
       "      <td>14681.9</td>\n",
       "      <td>3597</td>\n",
       "      <td>20604</td>\n",
       "      <td>36200.5</td>\n",
       "      <td>44877.8</td>\n",
       "      <td>50897</td>\n",
       "    </tr>\n",
       "    <tr>\n",
       "      <th>Total Annual Cost</th>\n",
       "      <td>28</td>\n",
       "      <td>NaN</td>\n",
       "      <td>NaN</td>\n",
       "      <td>NaN</td>\n",
       "      <td>62952.5</td>\n",
       "      <td>14203.5</td>\n",
       "      <td>8646</td>\n",
       "      <td>65024</td>\n",
       "      <td>67931</td>\n",
       "      <td>69918.5</td>\n",
       "      <td>74428</td>\n",
       "    </tr>\n",
       "    <tr>\n",
       "      <th>Alumni Salary</th>\n",
       "      <td>28</td>\n",
       "      <td>NaN</td>\n",
       "      <td>NaN</td>\n",
       "      <td>NaN</td>\n",
       "      <td>137575</td>\n",
       "      <td>7667.57</td>\n",
       "      <td>129500</td>\n",
       "      <td>132025</td>\n",
       "      <td>135100</td>\n",
       "      <td>140100</td>\n",
       "      <td>158200</td>\n",
       "    </tr>\n",
       "    <tr>\n",
       "      <th>Acceptance Rate</th>\n",
       "      <td>28</td>\n",
       "      <td>NaN</td>\n",
       "      <td>NaN</td>\n",
       "      <td>NaN</td>\n",
       "      <td>28.0357</td>\n",
       "      <td>21.4898</td>\n",
       "      <td>5</td>\n",
       "      <td>9.75</td>\n",
       "      <td>22</td>\n",
       "      <td>45</td>\n",
       "      <td>69</td>\n",
       "    </tr>\n",
       "    <tr>\n",
       "      <th>Percentage UG</th>\n",
       "      <td>28</td>\n",
       "      <td>NaN</td>\n",
       "      <td>NaN</td>\n",
       "      <td>NaN</td>\n",
       "      <td>68.7039</td>\n",
       "      <td>19.0947</td>\n",
       "      <td>40.82</td>\n",
       "      <td>50.03</td>\n",
       "      <td>69.785</td>\n",
       "      <td>80.0725</td>\n",
       "      <td>99.6</td>\n",
       "    </tr>\n",
       "    <tr>\n",
       "      <th>Alumni Sal Level</th>\n",
       "      <td>28</td>\n",
       "      <td>1</td>\n",
       "      <td>H</td>\n",
       "      <td>28</td>\n",
       "      <td>NaN</td>\n",
       "      <td>NaN</td>\n",
       "      <td>NaN</td>\n",
       "      <td>NaN</td>\n",
       "      <td>NaN</td>\n",
       "      <td>NaN</td>\n",
       "      <td>NaN</td>\n",
       "    </tr>\n",
       "  </tbody>\n",
       "</table>\n",
       "</div>"
      ],
      "text/plain": [
       "                         count unique                              top freq  \\\n",
       "Rank                        28    NaN                              NaN  NaN   \n",
       "Name                        28     28  Stevens Institute of Technology    1   \n",
       "City                        28     27                        Cambridge    2   \n",
       "State                       28     12                               CA    6   \n",
       "Public/Private              28      2                          Private   22   \n",
       "Undergraduate Population    28    NaN                              NaN  NaN   \n",
       "Student Population          28    NaN                              NaN  NaN   \n",
       "Net Price                   28    NaN                              NaN  NaN   \n",
       "Average Grant Aid           28    NaN                              NaN  NaN   \n",
       "Total Annual Cost           28    NaN                              NaN  NaN   \n",
       "Alumni Salary               28    NaN                              NaN  NaN   \n",
       "Acceptance Rate             28    NaN                              NaN  NaN   \n",
       "Percentage UG               28    NaN                              NaN  NaN   \n",
       "Alumni Sal Level            28      1                                H   28   \n",
       "\n",
       "                             mean      std     min      25%      50%      75%  \\\n",
       "Rank                      68.8571  87.5001       1     8.75     41.5    93.25   \n",
       "Name                          NaN      NaN     NaN      NaN      NaN      NaN   \n",
       "City                          NaN      NaN     NaN      NaN      NaN      NaN   \n",
       "State                         NaN      NaN     NaN      NaN      NaN      NaN   \n",
       "Public/Private                NaN      NaN     NaN      NaN      NaN      NaN   \n",
       "Undergraduate Population  6389.54  6290.91     847     2759     4752  7001.75   \n",
       "Student Population        10603.3  10225.9     861     3253   7019.5  13197.8   \n",
       "Net Price                 25288.6  9526.08    6758  17913.8  24977.5    34275   \n",
       "Average Grant Aid         32340.5  14681.9    3597    20604  36200.5  44877.8   \n",
       "Total Annual Cost         62952.5  14203.5    8646    65024    67931  69918.5   \n",
       "Alumni Salary              137575  7667.57  129500   132025   135100   140100   \n",
       "Acceptance Rate           28.0357  21.4898       5     9.75       22       45   \n",
       "Percentage UG             68.7039  19.0947   40.82    50.03   69.785  80.0725   \n",
       "Alumni Sal Level              NaN      NaN     NaN      NaN      NaN      NaN   \n",
       "\n",
       "                             max  \n",
       "Rank                         333  \n",
       "Name                         NaN  \n",
       "City                         NaN  \n",
       "State                        NaN  \n",
       "Public/Private               NaN  \n",
       "Undergraduate Population   31133  \n",
       "Student Population         41891  \n",
       "Net Price                  40376  \n",
       "Average Grant Aid          50897  \n",
       "Total Annual Cost          74428  \n",
       "Alumni Salary             158200  \n",
       "Acceptance Rate               69  \n",
       "Percentage UG               99.6  \n",
       "Alumni Sal Level             NaN  "
      ]
     },
     "execution_count": 37,
     "metadata": {},
     "output_type": "execute_result"
    }
   ],
   "source": [
    "df_high_alumnisal.describe(include='all').T"
   ]
  },
  {
   "cell_type": "markdown",
   "metadata": {
    "id": "qr6fnwantgme"
   },
   "source": [
    "Observations:\n",
    "\n",
    "Out of the 28 shortlisted colleges 22 are private colleges\n",
    "\n",
    "'CA' is the State which has higest number of these colleges\n",
    "\n",
    "'Net Price' of these colleges ranges from minimum of 6758 to maximum of 40376\n",
    "\n",
    "Average 'Acceptance Rate' of these colleges is 28.04\n",
    "\n",
    "Further analysis can be done on this dataset using the different methods(groupby, sort, nunique) we applied on the whole DataFrame"
   ]
  },
  {
   "cell_type": "markdown",
   "metadata": {
    "id": "p0XOVKsXtgme"
   },
   "source": [
    "### Happy Learning!!!"
   ]
  }
 ],
 "metadata": {
  "colab": {
   "name": "Forbes - Americas Top Colleges 2019 (1).ipynb",
   "provenance": []
  },
  "kernelspec": {
   "display_name": "Python 3 (ipykernel)",
   "language": "python",
   "name": "python3"
  },
  "language_info": {
   "codemirror_mode": {
    "name": "ipython",
    "version": 3
   },
   "file_extension": ".py",
   "mimetype": "text/x-python",
   "name": "python",
   "nbconvert_exporter": "python",
   "pygments_lexer": "ipython3",
   "version": "3.10.6"
  }
 },
 "nbformat": 4,
 "nbformat_minor": 1
}
