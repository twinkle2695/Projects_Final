{
 "cells": [
  {
   "cell_type": "code",
   "execution_count": 42,
   "id": "6170ca1a",
   "metadata": {},
   "outputs": [],
   "source": [
    "import numpy as np\n",
    "import pandas as pd\n",
    "import matplotlib.pyplot as plt\n",
    "import seaborn as sns"
   ]
  },
  {
   "cell_type": "code",
   "execution_count": 43,
   "id": "3cc2ad47",
   "metadata": {},
   "outputs": [
    {
     "data": {
      "text/html": [
       "<div>\n",
       "<style scoped>\n",
       "    .dataframe tbody tr th:only-of-type {\n",
       "        vertical-align: middle;\n",
       "    }\n",
       "\n",
       "    .dataframe tbody tr th {\n",
       "        vertical-align: top;\n",
       "    }\n",
       "\n",
       "    .dataframe thead th {\n",
       "        text-align: right;\n",
       "    }\n",
       "</style>\n",
       "<table border=\"1\" class=\"dataframe\">\n",
       "  <thead>\n",
       "    <tr style=\"text-align: right;\">\n",
       "      <th></th>\n",
       "      <th>No.</th>\n",
       "      <th>Runs</th>\n",
       "      <th>Against</th>\n",
       "      <th>Position</th>\n",
       "      <th>Innings</th>\n",
       "      <th>Stadium</th>\n",
       "      <th>Place</th>\n",
       "      <th>Ground</th>\n",
       "      <th>Date.2</th>\n",
       "      <th>Result</th>\n",
       "      <th>Out/NotOut</th>\n",
       "    </tr>\n",
       "  </thead>\n",
       "  <tbody>\n",
       "    <tr>\n",
       "      <th>0</th>\n",
       "      <td>1</td>\n",
       "      <td>107</td>\n",
       "      <td>Sri Lanka</td>\n",
       "      <td>4</td>\n",
       "      <td>2</td>\n",
       "      <td>Eden Gardens</td>\n",
       "      <td>Kolkata</td>\n",
       "      <td>Home</td>\n",
       "      <td>2009</td>\n",
       "      <td>Won</td>\n",
       "      <td>Out</td>\n",
       "    </tr>\n",
       "    <tr>\n",
       "      <th>1</th>\n",
       "      <td>2</td>\n",
       "      <td>102</td>\n",
       "      <td>Bangladesh</td>\n",
       "      <td>3</td>\n",
       "      <td>2</td>\n",
       "      <td>Sher-e-Bangla Cricket Stadium</td>\n",
       "      <td>Dhaka</td>\n",
       "      <td>Away</td>\n",
       "      <td>2010</td>\n",
       "      <td>Won</td>\n",
       "      <td>NotOut</td>\n",
       "    </tr>\n",
       "    <tr>\n",
       "      <th>2</th>\n",
       "      <td>3</td>\n",
       "      <td>118</td>\n",
       "      <td>Australia</td>\n",
       "      <td>3</td>\n",
       "      <td>2</td>\n",
       "      <td>APCA-VDCA Stadium</td>\n",
       "      <td>Visakhapatnam</td>\n",
       "      <td>Home</td>\n",
       "      <td>2010</td>\n",
       "      <td>Won</td>\n",
       "      <td>Out</td>\n",
       "    </tr>\n",
       "    <tr>\n",
       "      <th>3</th>\n",
       "      <td>4</td>\n",
       "      <td>105</td>\n",
       "      <td>New Zealand</td>\n",
       "      <td>3</td>\n",
       "      <td>1</td>\n",
       "      <td>Nehru Stadium</td>\n",
       "      <td>Guwahati</td>\n",
       "      <td>Home</td>\n",
       "      <td>2010</td>\n",
       "      <td>Won</td>\n",
       "      <td>Out</td>\n",
       "    </tr>\n",
       "    <tr>\n",
       "      <th>4</th>\n",
       "      <td>5</td>\n",
       "      <td>100</td>\n",
       "      <td>Bangladesh</td>\n",
       "      <td>4</td>\n",
       "      <td>1</td>\n",
       "      <td>Sher-e-Bangla Cricket Stadium</td>\n",
       "      <td>Dhaka</td>\n",
       "      <td>Away</td>\n",
       "      <td>2011</td>\n",
       "      <td>Won</td>\n",
       "      <td>NotOut</td>\n",
       "    </tr>\n",
       "  </tbody>\n",
       "</table>\n",
       "</div>"
      ],
      "text/plain": [
       "   No.  Runs       Against  Position  Innings                        Stadium  \\\n",
       "0    1   107     Sri Lanka         4        2                   Eden Gardens   \n",
       "1    2   102    Bangladesh         3        2  Sher-e-Bangla Cricket Stadium   \n",
       "2    3   118     Australia         3        2              APCA-VDCA Stadium   \n",
       "3    4   105   New Zealand         3        1                  Nehru Stadium   \n",
       "4    5   100    Bangladesh         4        1  Sher-e-Bangla Cricket Stadium   \n",
       "\n",
       "           Place Ground  Date.2 Result Out/NotOut  \n",
       "0        Kolkata   Home    2009    Won        Out  \n",
       "1          Dhaka   Away    2010    Won     NotOut  \n",
       "2  Visakhapatnam   Home    2010    Won        Out  \n",
       "3       Guwahati   Home    2010    Won        Out  \n",
       "4          Dhaka   Away    2011    Won     NotOut  "
      ]
     },
     "execution_count": 43,
     "metadata": {},
     "output_type": "execute_result"
    }
   ],
   "source": [
    "df=pd.read_csv(\"ViratK_analysis.csv\")\n",
    "df.head()"
   ]
  },
  {
   "cell_type": "code",
   "execution_count": 5,
   "id": "aab1776a",
   "metadata": {},
   "outputs": [
    {
     "data": {
      "text/plain": [
       "(75, 11)"
      ]
     },
     "execution_count": 5,
     "metadata": {},
     "output_type": "execute_result"
    }
   ],
   "source": [
    "df.shape"
   ]
  },
  {
   "cell_type": "code",
   "execution_count": 44,
   "id": "f608024f",
   "metadata": {},
   "outputs": [
    {
     "name": "stdout",
     "output_type": "stream",
     "text": [
      "<class 'pandas.core.frame.DataFrame'>\n",
      "RangeIndex: 75 entries, 0 to 74\n",
      "Data columns (total 11 columns):\n",
      " #   Column      Non-Null Count  Dtype \n",
      "---  ------      --------------  ----- \n",
      " 0   No.         75 non-null     int64 \n",
      " 1   Runs        75 non-null     int64 \n",
      " 2   Against     75 non-null     object\n",
      " 3   Position    75 non-null     int64 \n",
      " 4   Innings     75 non-null     int64 \n",
      " 5   Stadium     75 non-null     object\n",
      " 6   Place       75 non-null     object\n",
      " 7   Ground      75 non-null     object\n",
      " 8   Date.2      75 non-null     int64 \n",
      " 9   Result      75 non-null     object\n",
      " 10  Out/NotOut  75 non-null     object\n",
      "dtypes: int64(5), object(6)\n",
      "memory usage: 6.6+ KB\n"
     ]
    }
   ],
   "source": [
    "df.info()"
   ]
  },
  {
   "cell_type": "code",
   "execution_count": 45,
   "id": "25ce8649",
   "metadata": {},
   "outputs": [],
   "source": [
    "df.drop([\"No.\",\"Date.2\"],axis=1,inplace=True)\n"
   ]
  },
  {
   "cell_type": "code",
   "execution_count": 46,
   "id": "e1d846c1",
   "metadata": {},
   "outputs": [
    {
     "data": {
      "text/html": [
       "<div>\n",
       "<style scoped>\n",
       "    .dataframe tbody tr th:only-of-type {\n",
       "        vertical-align: middle;\n",
       "    }\n",
       "\n",
       "    .dataframe tbody tr th {\n",
       "        vertical-align: top;\n",
       "    }\n",
       "\n",
       "    .dataframe thead th {\n",
       "        text-align: right;\n",
       "    }\n",
       "</style>\n",
       "<table border=\"1\" class=\"dataframe\">\n",
       "  <thead>\n",
       "    <tr style=\"text-align: right;\">\n",
       "      <th></th>\n",
       "      <th>Runs</th>\n",
       "      <th>Position</th>\n",
       "      <th>Innings</th>\n",
       "    </tr>\n",
       "  </thead>\n",
       "  <tbody>\n",
       "    <tr>\n",
       "      <th>count</th>\n",
       "      <td>75.0000</td>\n",
       "      <td>75.000000</td>\n",
       "      <td>75.000000</td>\n",
       "    </tr>\n",
       "    <tr>\n",
       "      <th>mean</th>\n",
       "      <td>132.8000</td>\n",
       "      <td>3.520000</td>\n",
       "      <td>1.706667</td>\n",
       "    </tr>\n",
       "    <tr>\n",
       "      <th>std</th>\n",
       "      <td>35.8337</td>\n",
       "      <td>0.664953</td>\n",
       "      <td>0.673300</td>\n",
       "    </tr>\n",
       "    <tr>\n",
       "      <th>min</th>\n",
       "      <td>100.0000</td>\n",
       "      <td>2.000000</td>\n",
       "      <td>1.000000</td>\n",
       "    </tr>\n",
       "    <tr>\n",
       "      <th>25%</th>\n",
       "      <td>107.0000</td>\n",
       "      <td>3.000000</td>\n",
       "      <td>1.000000</td>\n",
       "    </tr>\n",
       "    <tr>\n",
       "      <th>50%</th>\n",
       "      <td>119.0000</td>\n",
       "      <td>3.000000</td>\n",
       "      <td>2.000000</td>\n",
       "    </tr>\n",
       "    <tr>\n",
       "      <th>75%</th>\n",
       "      <td>140.5000</td>\n",
       "      <td>4.000000</td>\n",
       "      <td>2.000000</td>\n",
       "    </tr>\n",
       "    <tr>\n",
       "      <th>max</th>\n",
       "      <td>254.0000</td>\n",
       "      <td>6.000000</td>\n",
       "      <td>4.000000</td>\n",
       "    </tr>\n",
       "  </tbody>\n",
       "</table>\n",
       "</div>"
      ],
      "text/plain": [
       "           Runs   Position    Innings\n",
       "count   75.0000  75.000000  75.000000\n",
       "mean   132.8000   3.520000   1.706667\n",
       "std     35.8337   0.664953   0.673300\n",
       "min    100.0000   2.000000   1.000000\n",
       "25%    107.0000   3.000000   1.000000\n",
       "50%    119.0000   3.000000   2.000000\n",
       "75%    140.5000   4.000000   2.000000\n",
       "max    254.0000   6.000000   4.000000"
      ]
     },
     "execution_count": 46,
     "metadata": {},
     "output_type": "execute_result"
    }
   ],
   "source": [
    "df.describe()"
   ]
  },
  {
   "cell_type": "markdown",
   "id": "85ef8b50",
   "metadata": {},
   "source": [
    "# EDA_ViratK"
   ]
  },
  {
   "cell_type": "code",
   "execution_count": 103,
   "id": "23044428",
   "metadata": {},
   "outputs": [
    {
     "data": {
      "text/html": [
       "<div>\n",
       "<style scoped>\n",
       "    .dataframe tbody tr th:only-of-type {\n",
       "        vertical-align: middle;\n",
       "    }\n",
       "\n",
       "    .dataframe tbody tr th {\n",
       "        vertical-align: top;\n",
       "    }\n",
       "\n",
       "    .dataframe thead th {\n",
       "        text-align: right;\n",
       "    }\n",
       "</style>\n",
       "<table border=\"1\" class=\"dataframe\">\n",
       "  <thead>\n",
       "    <tr style=\"text-align: right;\">\n",
       "      <th></th>\n",
       "      <th>Runs</th>\n",
       "      <th>Against</th>\n",
       "      <th>Position</th>\n",
       "      <th>Innings</th>\n",
       "      <th>Stadium</th>\n",
       "      <th>Place</th>\n",
       "      <th>Ground</th>\n",
       "      <th>Result</th>\n",
       "      <th>Out/NotOut</th>\n",
       "    </tr>\n",
       "  </thead>\n",
       "  <tbody>\n",
       "    <tr>\n",
       "      <th>4</th>\n",
       "      <td>100</td>\n",
       "      <td>Bangladesh</td>\n",
       "      <td>4</td>\n",
       "      <td>1</td>\n",
       "      <td>Sher-e-Bangla Cricket Stadium</td>\n",
       "      <td>Dhaka</td>\n",
       "      <td>Away</td>\n",
       "      <td>Won</td>\n",
       "      <td>NotOut</td>\n",
       "    </tr>\n",
       "    <tr>\n",
       "      <th>19</th>\n",
       "      <td>100</td>\n",
       "      <td>Australia</td>\n",
       "      <td>3</td>\n",
       "      <td>2</td>\n",
       "      <td>Sawai Mansingh Stadium</td>\n",
       "      <td>Jaipur</td>\n",
       "      <td>Home</td>\n",
       "      <td>Won</td>\n",
       "      <td>NotOut</td>\n",
       "    </tr>\n",
       "    <tr>\n",
       "      <th>1</th>\n",
       "      <td>102</td>\n",
       "      <td>Bangladesh</td>\n",
       "      <td>3</td>\n",
       "      <td>2</td>\n",
       "      <td>Sher-e-Bangla Cricket Stadium</td>\n",
       "      <td>Dhaka</td>\n",
       "      <td>Away</td>\n",
       "      <td>Won</td>\n",
       "      <td>NotOut</td>\n",
       "    </tr>\n",
       "    <tr>\n",
       "      <th>17</th>\n",
       "      <td>102</td>\n",
       "      <td>West Indies</td>\n",
       "      <td>3</td>\n",
       "      <td>1</td>\n",
       "      <td>Queen's Park Oval</td>\n",
       "      <td>Port of Spain</td>\n",
       "      <td>Away</td>\n",
       "      <td>Won (D/L)</td>\n",
       "      <td>Out</td>\n",
       "    </tr>\n",
       "    <tr>\n",
       "      <th>57</th>\n",
       "      <td>103</td>\n",
       "      <td>England</td>\n",
       "      <td>4</td>\n",
       "      <td>3</td>\n",
       "      <td>Trent Bridge</td>\n",
       "      <td>Nottingham</td>\n",
       "      <td>Away</td>\n",
       "      <td>Won</td>\n",
       "      <td>Out</td>\n",
       "    </tr>\n",
       "    <tr>\n",
       "      <th>...</th>\n",
       "      <td>...</td>\n",
       "      <td>...</td>\n",
       "      <td>...</td>\n",
       "      <td>...</td>\n",
       "      <td>...</td>\n",
       "      <td>...</td>\n",
       "      <td>...</td>\n",
       "      <td>...</td>\n",
       "      <td>...</td>\n",
       "    </tr>\n",
       "    <tr>\n",
       "      <th>37</th>\n",
       "      <td>211</td>\n",
       "      <td>New Zealand</td>\n",
       "      <td>4</td>\n",
       "      <td>1</td>\n",
       "      <td>Holkar Stadium</td>\n",
       "      <td>Indore</td>\n",
       "      <td>Home</td>\n",
       "      <td>Won</td>\n",
       "      <td>Out</td>\n",
       "    </tr>\n",
       "    <tr>\n",
       "      <th>50</th>\n",
       "      <td>213</td>\n",
       "      <td>Sri Lanka</td>\n",
       "      <td>4</td>\n",
       "      <td>2</td>\n",
       "      <td>Vidarbha Cricket Association Stadium</td>\n",
       "      <td>Nagpur</td>\n",
       "      <td>Home</td>\n",
       "      <td>Won</td>\n",
       "      <td>Out</td>\n",
       "    </tr>\n",
       "    <tr>\n",
       "      <th>40</th>\n",
       "      <td>235</td>\n",
       "      <td>England</td>\n",
       "      <td>4</td>\n",
       "      <td>2</td>\n",
       "      <td>Wankhede Stadium</td>\n",
       "      <td>Mumbai</td>\n",
       "      <td>Home</td>\n",
       "      <td>Won</td>\n",
       "      <td>Out</td>\n",
       "    </tr>\n",
       "    <tr>\n",
       "      <th>51</th>\n",
       "      <td>243</td>\n",
       "      <td>Sri Lanka</td>\n",
       "      <td>4</td>\n",
       "      <td>1</td>\n",
       "      <td>Feroz Shah Kotla Ground</td>\n",
       "      <td>Delhi</td>\n",
       "      <td>Home</td>\n",
       "      <td>Drawn</td>\n",
       "      <td>Out</td>\n",
       "    </tr>\n",
       "    <tr>\n",
       "      <th>68</th>\n",
       "      <td>254</td>\n",
       "      <td>South Africa</td>\n",
       "      <td>4</td>\n",
       "      <td>1</td>\n",
       "      <td>Maharashtra Cricket Association Stadium</td>\n",
       "      <td>Pune</td>\n",
       "      <td>Home</td>\n",
       "      <td>Won</td>\n",
       "      <td>NotOut</td>\n",
       "    </tr>\n",
       "  </tbody>\n",
       "</table>\n",
       "<p>75 rows × 9 columns</p>\n",
       "</div>"
      ],
      "text/plain": [
       "    Runs        Against  Position  Innings  \\\n",
       "4    100     Bangladesh         4        1   \n",
       "19   100      Australia         3        2   \n",
       "1    102     Bangladesh         3        2   \n",
       "17   102    West Indies         3        1   \n",
       "57   103        England         4        3   \n",
       "..   ...            ...       ...      ...   \n",
       "37   211    New Zealand         4        1   \n",
       "50   213      Sri Lanka         4        2   \n",
       "40   235        England         4        2   \n",
       "51   243      Sri Lanka         4        1   \n",
       "68   254   South Africa         4        1   \n",
       "\n",
       "                                    Stadium          Place Ground     Result  \\\n",
       "4             Sher-e-Bangla Cricket Stadium          Dhaka   Away        Won   \n",
       "19                   Sawai Mansingh Stadium         Jaipur   Home        Won   \n",
       "1             Sher-e-Bangla Cricket Stadium          Dhaka   Away        Won   \n",
       "17                        Queen's Park Oval  Port of Spain   Away  Won (D/L)   \n",
       "57                             Trent Bridge     Nottingham   Away        Won   \n",
       "..                                      ...            ...    ...        ...   \n",
       "37                           Holkar Stadium         Indore   Home        Won   \n",
       "50     Vidarbha Cricket Association Stadium         Nagpur   Home        Won   \n",
       "40                         Wankhede Stadium         Mumbai   Home        Won   \n",
       "51                  Feroz Shah Kotla Ground          Delhi   Home      Drawn   \n",
       "68  Maharashtra Cricket Association Stadium           Pune   Home        Won   \n",
       "\n",
       "   Out/NotOut  \n",
       "4      NotOut  \n",
       "19     NotOut  \n",
       "1      NotOut  \n",
       "17        Out  \n",
       "57        Out  \n",
       "..        ...  \n",
       "37        Out  \n",
       "50        Out  \n",
       "40        Out  \n",
       "51        Out  \n",
       "68     NotOut  \n",
       "\n",
       "[75 rows x 9 columns]"
      ]
     },
     "execution_count": 103,
     "metadata": {},
     "output_type": "execute_result"
    }
   ],
   "source": [
    "df.sort_values(\"Runs\")"
   ]
  },
  {
   "cell_type": "code",
   "execution_count": 11,
   "id": "030b5f9a",
   "metadata": {},
   "outputs": [
    {
     "data": {
      "image/png": "[encoded data removed]",
      "text/plain": [
       "<Figure size 360x360 with 1 Axes>"
      ]
     },
     "metadata": {
      "needs_background": "light"
     },
     "output_type": "display_data"
    }
   ],
   "source": [
    "plt.figure(figsize=(5,5))\n",
    "ax=sns.countplot(data=df,x=\"Ground\",palette=\"summer\")\n",
    "ax.bar_label(ax.containers[0])\n",
    "plt.show()"
   ]
  },
  {
   "cell_type": "markdown",
   "id": "8f4c9517",
   "metadata": {},
   "source": [
    "From the above chart we can conclude that Virat plays better at international grounds over domestic"
   ]
  },
  {
   "cell_type": "code",
   "execution_count": 105,
   "id": "2517fc92",
   "metadata": {},
   "outputs": [
    {
     "name": "stdout",
     "output_type": "stream",
     "text": [
      "                    Runs  Position  Innings\n",
      "Place                                      \n",
      "Adelaide             583        20       11\n",
      "Ahmedabad            186         4        2\n",
      "Bangalore            103         5        2\n",
      "Birmingham           149         4        2\n",
      "Canberra             106         3        2\n",
      "Cape Town            160         3        1\n",
      "Cardiff              107         4        1\n",
      "Centurion            282         7        4\n",
      "Chennai              245         8        3\n",
      "Chittagong           113         3        1\n",
      "Colombo              369         9        5\n",
      "Delhi                355         8        3\n",
      "Dhaka                493        13        6\n",
      "Dharamshala          127         3        1\n",
      "Dubai                122         2        1\n",
      "Durban               112         3        2\n",
      "Fatullah             136         3        2\n",
      "Galle                206         8        5\n",
      "Guwahati             358         9        4\n",
      "Hambantota           106         3        1\n",
      "Harare               115         3        2\n",
      "Hobart               133         4        2\n",
      "Hyderabad            204         4        1\n",
      "Indore               211         4        1\n",
      "Jaipur               100         3        2\n",
      "Johannesburg         119         4        1\n",
      "Kanpur               113         3        1\n",
      "Kingston             111         3        2\n",
      "Kolkata              347        12        7\n",
      "Melbourne            286         7        3\n",
      "Mohali               154         3        2\n",
      "Mumbai               356         7        3\n",
      "Nagpur               547        15        7\n",
      "Napier               123         3        2\n",
      "North Sound          200         4        1\n",
      "Nottingham           103         4        3\n",
      "Perth                123         4        2\n",
      "Port of Spain        336         9        4\n",
      "Pune                 483        10        5\n",
      "Rajkot               139         4        1\n",
      "Ranchi               262         7        4\n",
      "Sydney               147         4        2\n",
      "Thiruvananthapuram   166         3        1\n",
      "Visakhapatnam        559        14        6\n",
      "Wellington           105         4        4\n"
     ]
    }
   ],
   "source": [
    "a=df.groupby(\"Place\").sum()\n",
    "print(a)"
   ]
  },
  {
   "cell_type": "code",
   "execution_count": 16,
   "id": "04acd003",
   "metadata": {},
   "outputs": [
    {
     "name": "stdout",
     "output_type": "stream",
     "text": [
      "                      Runs  Innings\n",
      "Place                              \n",
      "Adelaide            116.60        4\n",
      "Ahmedabad           186.00        2\n",
      "Bangalore           103.00        2\n",
      "Birmingham          149.00        2\n",
      "Canberra            106.00        2\n",
      "Cape Town           160.00        1\n",
      "Cardiff             107.00        1\n",
      "Centurion           141.00        2\n",
      "Chennai             122.50        2\n",
      "Chittagong          113.00        1\n",
      "Colombo             123.00        2\n",
      "Delhi               177.50        2\n",
      "Dhaka               123.25        2\n",
      "Dharamshala         127.00        1\n",
      "Dubai               122.00        1\n",
      "Durban              112.00        2\n",
      "Fatullah            136.00        2\n",
      "Galle               103.00        3\n",
      "Guwahati            119.33        2\n",
      "Hambantota          106.00        1\n",
      "Harare              115.00        2\n",
      "Hobart              133.00        2\n",
      "Hyderabad           204.00        1\n",
      "Indore              211.00        1\n",
      "Jaipur              100.00        2\n",
      "Johannesburg        119.00        1\n",
      "Kanpur              113.00        1\n",
      "Kingston            111.00        2\n",
      "Kolkata             115.67        3\n",
      "Melbourne           143.00        2\n",
      "Mohali              154.00        2\n",
      "Mumbai              178.00        2\n",
      "Nagpur              136.75        2\n",
      "Napier              123.00        2\n",
      "North Sound         200.00        1\n",
      "Nottingham          103.00        3\n",
      "Perth               123.00        2\n",
      "Port of Spain       112.00        2\n",
      "Pune                161.00        2\n",
      "Rajkot              139.00        1\n",
      "Ranchi              131.00        2\n",
      "Sydney              147.00        2\n",
      "Thiruvananthapuram  166.00        1\n",
      "Visakhapatnam       139.75        2\n",
      "Wellington          105.00        4\n"
     ]
    }
   ],
   "source": [
    "gb=df.groupby(\"Place\").agg({\"Runs\":\"mean\",\"Innings\":\"max\"}).round(2)\n",
    "print(gb)"
   ]
  },
  {
   "cell_type": "code",
   "execution_count": 38,
   "id": "e8636610",
   "metadata": {},
   "outputs": [
    {
     "data": {
      "image/png": "[encoded data removed]",
      "text/plain": [
       "<Figure size 432x288 with 1 Axes>"
      ]
     },
     "metadata": {
      "needs_background": "light"
     },
     "output_type": "display_data"
    }
   ],
   "source": [
    "sns.lineplot(x=\"Runs\",y=\"Innings\",data=gb,markers=[\"o\"],color=\"Green\",markersize=10)\n",
    "plt.grid()\n",
    "plt.title(\"Relationship between Runs & Innings categorising Place\")\n",
    "\n",
    "plt.show()\n"
   ]
  },
  {
   "cell_type": "markdown",
   "id": "0bc8abcc",
   "metadata": {},
   "source": [
    "Though Virat plays best when Away(International ground) from home, but the best of his average score is at Domestic ground only namely Indore and Hyderabad"
   ]
  },
  {
   "cell_type": "code",
   "execution_count": 13,
   "id": "63a783dd",
   "metadata": {},
   "outputs": [
    {
     "name": "stdout",
     "output_type": "stream",
     "text": [
      "              Runs  Innings\n",
      "Result                     \n",
      "Drawn       148.11        4\n",
      "Lost        122.85        4\n",
      "Lost (D/L)  107.00        1\n",
      "Won         133.75        3\n",
      "Won (D/L)   102.00        1\n"
     ]
    }
   ],
   "source": [
    "gbb=df.groupby(\"Result\").agg({\"Runs\":\"mean\",\"Innings\":\"max\"}).round(2)\n",
    "print(gbb)"
   ]
  },
  {
   "cell_type": "code",
   "execution_count": 14,
   "id": "b9fd6b46",
   "metadata": {},
   "outputs": [
    {
     "data": {
      "image/png": "[encoded data removed]",
      "text/plain": [
       "<Figure size 432x288 with 1 Axes>"
      ]
     },
     "metadata": {
      "needs_background": "light"
     },
     "output_type": "display_data"
    }
   ],
   "source": [
    "sns.barplot(data=gbb,x=\"Runs\",y=\"Innings\",palette=\"magma\")\n",
    "plt.title(\"Result as per Runs & Innings\")\n",
    "plt.show()"
   ]
  },
  {
   "cell_type": "markdown",
   "id": "2e544af1",
   "metadata": {},
   "source": [
    "The analysis above states that whenever Virat is close to scoring  an average of 150 runs the match is mostly drawn"
   ]
  },
  {
   "cell_type": "code",
   "execution_count": 8,
   "id": "ff42f9f3",
   "metadata": {},
   "outputs": [
    {
     "name": "stdout",
     "output_type": "stream",
     "text": [
      "              Runs  Position\n",
      "Out/NotOut                  \n",
      "NotOut      129.43         4\n",
      "Out         134.11         6\n"
     ]
    }
   ],
   "source": [
    "gbbb=df.groupby(\"Out/NotOut\").agg({\"Runs\":\"mean\",\"Position\":\"max\"}).round(2)\n",
    "print(gbbb)"
   ]
  },
  {
   "cell_type": "code",
   "execution_count": 23,
   "id": "78aa5949",
   "metadata": {},
   "outputs": [
    {
     "data": {
      "image/png": "[encoded data removed]",
      "text/plain": [
       "<Figure size 432x288 with 1 Axes>"
      ]
     },
     "metadata": {
      "needs_background": "light"
     },
     "output_type": "display_data"
    }
   ],
   "source": [
    "sns.barplot(data=gbbb,x=\"Runs\",y=\"Position\",palette=\"Accent\")\n",
    "plt.title(\"Runs as per Position Out/NotOut\")\n",
    "plt.show()"
   ]
  },
  {
   "cell_type": "raw",
   "id": "37d7589c",
   "metadata": {},
   "source": [
    "The barplot above highlihghts the average runs scored as against his position to play on the basis of him being out or not notout and concludes that average runs of him being out is slightly higher than him being not out"
   ]
  }
 ],
 "metadata": {
  "kernelspec": {
   "display_name": "Python 3 (ipykernel)",
   "language": "python",
   "name": "python3"
  },
  "language_info": {
   "codemirror_mode": {
    "name": "ipython",
    "version": 3
   },
   "file_extension": ".py",
   "mimetype": "text/x-python",
   "name": "python",
   "nbconvert_exporter": "python",
   "pygments_lexer": "ipython3",
   "version": "3.9.12"
  }
 },
 "nbformat": 4,
 "nbformat_minor": 5
}
