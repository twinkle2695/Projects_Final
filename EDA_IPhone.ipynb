{
 "cells": [
  {
   "cell_type": "markdown",
   "id": "bb0ec378",
   "metadata": {},
   "source": [
    "# iPhone Sales Analysis using Python"
   ]
  },
  {
   "cell_type": "raw",
   "id": "153bee4b",
   "metadata": {},
   "source": [
    "Apple iPhones are among the top-selling smartphones worldwide. There is huge competition among smartphone brands in India, where you can get the latest technology in a smartphone at half the price of an iPhone. Still, there are high sales of iPhones in India. So if you want to analyze the sales of iPhones in India, this article is for you. In this article, I will take you through the task of iPhone Sales Analysis using Python."
   ]
  },
  {
   "cell_type": "markdown",
   "id": "56a081f2",
   "metadata": {},
   "source": [
    "# import important libraries"
   ]
  },
  {
   "cell_type": "code",
   "execution_count": null,
   "id": "4035f2b5",
   "metadata": {},
   "outputs": [],
   "source": []
  },
  {
   "cell_type": "markdown",
   "id": "5b134211",
   "metadata": {},
   "source": [
    "# load data and display first five records"
   ]
  },
  {
   "cell_type": "code",
   "execution_count": null,
   "id": "c4abdb6d",
   "metadata": {},
   "outputs": [],
   "source": []
  },
  {
   "cell_type": "markdown",
   "id": "dbcbfd2b",
   "metadata": {},
   "source": [
    "# check for the missing values"
   ]
  },
  {
   "cell_type": "code",
   "execution_count": null,
   "id": "d62b7268",
   "metadata": {},
   "outputs": [],
   "source": []
  },
  {
   "cell_type": "raw",
   "id": "a1d50cf8",
   "metadata": {},
   "source": []
  },
  {
   "cell_type": "markdown",
   "id": "552e4e94",
   "metadata": {},
   "source": [
    "# The descriptive statistics of the data"
   ]
  },
  {
   "cell_type": "code",
   "execution_count": null,
   "id": "6fa076ae",
   "metadata": {},
   "outputs": [],
   "source": []
  },
  {
   "cell_type": "markdown",
   "id": "2290edf2",
   "metadata": {},
   "source": [
    "# iPhone Sales Analysis in India🇮🇳 "
   ]
  },
  {
   "cell_type": "markdown",
   "id": "790493d2",
   "metadata": {},
   "source": [
    "# iPhones are liked the most in India"
   ]
  },
  {
   "cell_type": "code",
   "execution_count": null,
   "id": "4137a7c2",
   "metadata": {},
   "outputs": [],
   "source": []
  },
  {
   "cell_type": "raw",
   "id": "e16257df",
   "metadata": {},
   "source": [
    "I have created a new dataframe by storing all the data about the top 10 highest-rated iPhones in India on Flipkart. It will help in understanding what kind of iPhones are liked the most in India.\n",
    "\n",
    "According to the above data, below are the top 5 most liked iPhones in India:\n",
    "\n",
    "APPLE iPhone 11 Pro Max (Midnight Green, 64 GB)\n",
    "APPLE iPhone 11 Pro Max (Space Grey, 64 GB)\n",
    "APPLE iPhone 11 Pro Max (Midnight Green, 256 GB) \n",
    "APPLE iPhone 11 Pro Max (Gold, 64 GB)\n",
    "APPLE iPhone 11 Pro Max (Gold, 256 GB)"
   ]
  },
  {
   "cell_type": "markdown",
   "id": "82502a8d",
   "metadata": {},
   "source": [
    "# highest-rated iPhones on Flipkart"
   ]
  },
  {
   "cell_type": "code",
   "execution_count": null,
   "id": "f461d46b",
   "metadata": {},
   "outputs": [],
   "source": []
  },
  {
   "cell_type": "markdown",
   "id": "5f632eb3",
   "metadata": {},
   "source": [
    "According to the above bar graph, APPLE iPhone 8 Plus (Gold, 64 GB) has the most ratings on Flipkart."
   ]
  },
  {
   "cell_type": "markdown",
   "id": "55b835d3",
   "metadata": {},
   "source": [
    "# Number of reviews of the highest-rated iPhones on Flipkart"
   ]
  },
  {
   "cell_type": "code",
   "execution_count": null,
   "id": "99787487",
   "metadata": {},
   "outputs": [],
   "source": []
  },
  {
   "cell_type": "markdown",
   "id": "756fc64b",
   "metadata": {},
   "source": [
    "APPLE iPhone 8 Plus (Gold, 64 GB) is also leading in the highest number of reviews on Flipkart among the highest-rated iPhones in India."
   ]
  },
  {
   "cell_type": "markdown",
   "id": "40ff6644",
   "metadata": {},
   "source": [
    "# Check relationship between the sale price of iPhones and their ratings on Flipkart"
   ]
  },
  {
   "cell_type": "code",
   "execution_count": null,
   "id": "6e3bb5f0",
   "metadata": {},
   "outputs": [],
   "source": []
  },
  {
   "cell_type": "markdown",
   "id": "4301a6f5",
   "metadata": {},
   "source": [
    "There is a negative linear relationship between the sale price of iPhones and the number of ratings. It means iPhones with lower sale prices are sold more in India. "
   ]
  },
  {
   "cell_type": "markdown",
   "id": "896d2f49",
   "metadata": {},
   "source": [
    "# Check relationship between the discount percentage on iPhones on Flipkart and the number of ratings"
   ]
  },
  {
   "cell_type": "code",
   "execution_count": null,
   "id": "4863d2ac",
   "metadata": {},
   "outputs": [],
   "source": []
  },
  {
   "cell_type": "markdown",
   "id": "2a08fe71",
   "metadata": {},
   "source": [
    "There is a linear relationship between the discount percentage on iPhones on Flipkart and the number of ratings. It means iPhones with high discounts are sold more in India."
   ]
  },
  {
   "cell_type": "raw",
   "id": "a4b69d86",
   "metadata": {},
   "source": [
    "Some of the takeaways from this article about the sales of iPhone in India are:\n",
    "    1. APPLE iPhone 8 Plus (Gold, 64 GB) was the most appreciated iPhone in India\n",
    "    2. iPhones with lower sale prices are sold more in India\n",
    "    3. iPhones with high discounts are sold more in India"
   ]
  }
 ],
 "metadata": {
  "kernelspec": {
   "display_name": "Python 3 (ipykernel)",
   "language": "python",
   "name": "python3"
  },
  "language_info": {
   "codemirror_mode": {
    "name": "ipython",
    "version": 3
   },
   "file_extension": ".py",
   "mimetype": "text/x-python",
   "name": "python",
   "nbconvert_exporter": "python",
   "pygments_lexer": "ipython3",
   "version": "3.10.6"
  }
 },
 "nbformat": 4,
 "nbformat_minor": 5
}
